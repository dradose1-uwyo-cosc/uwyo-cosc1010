{
 "cells": [
  {
   "cell_type": "code",
   "execution_count": 2,
   "metadata": {
    "slideshow": {
     "slide_type": "slide"
    }
   },
   "outputs": [
    {
     "name": "stdout",
     "output_type": "stream",
     "text": [
      "Hello World\n"
     ]
    }
   ],
   "source": [
    "# Danny Radosevich\n",
    "# COSC 1010\n",
    "# 8-23-23\n",
    "# Lab Section: 10\n",
    "# Sources used: None\n",
    "\n",
    "print(\"Hello World\")"
   ]
  },
  {
   "cell_type": "code",
   "execution_count": 3,
   "metadata": {
    "slideshow": {
     "slide_type": "slide"
    }
   },
   "outputs": [
    {
     "name": "stdout",
     "output_type": "stream",
     "text": [
      "Hello World\n"
     ]
    }
   ],
   "source": [
    "# Danny Radosevich\n",
    "# COSC 1010\n",
    "# 8-23-23\n",
    "# Lab Section: 10\n",
    "# Sources used: None\n",
    "\n",
    "message = \"Hello World\"\n",
    "\n",
    "print(message)"
   ]
  },
  {
   "cell_type": "code",
   "execution_count": 4,
   "metadata": {
    "slideshow": {
     "slide_type": "slide"
    }
   },
   "outputs": [
    {
     "name": "stdout",
     "output_type": "stream",
     "text": [
      "Hello World\n",
      "Hi there COSC1010\n"
     ]
    }
   ],
   "source": [
    "# Assign \"Hello World\" to our variable\n",
    "message = \"Hello World\"\n",
    "#Print out the message \n",
    "print(message)\n",
    "\n",
    "#Now, we are going to assign a new message to the same variable \n",
    "message = \"Hi there COSC1010\"\n",
    "print(message)"
   ]
  },
  {
   "cell_type": "markdown",
   "metadata": {},
   "source": [
    "# Practice problem 1 \n",
    "In the following cell create a variable `cowboys` and assign the string `go pokes` to it.   \n",
    "Print your variable "
   ]
  },
  {
   "cell_type": "code",
   "execution_count": null,
   "metadata": {},
   "outputs": [],
   "source": []
  },
  {
   "cell_type": "code",
   "execution_count": 5,
   "metadata": {
    "slideshow": {
     "slide_type": "slide"
    }
   },
   "outputs": [
    {
     "ename": "NameError",
     "evalue": "name 'emssage' is not defined",
     "output_type": "error",
     "traceback": [
      "\u001b[0;31m---------------------------------------------------------------------------\u001b[0m",
      "\u001b[0;31mNameError\u001b[0m                                 Traceback (most recent call last)",
      "\u001b[0;32m/tmp/ipykernel_6549/1780198087.py\u001b[0m in \u001b[0;36m<module>\u001b[0;34m\u001b[0m\n\u001b[1;32m      2\u001b[0m \u001b[0mmessage\u001b[0m \u001b[0;34m=\u001b[0m \u001b[0;34m\"Go Pokes!\"\u001b[0m\u001b[0;34m\u001b[0m\u001b[0;34m\u001b[0m\u001b[0m\n\u001b[1;32m      3\u001b[0m \u001b[0;31m#now print that message, intentionally misspelling message\u001b[0m\u001b[0;34m\u001b[0m\u001b[0;34m\u001b[0m\u001b[0m\n\u001b[0;32m----> 4\u001b[0;31m \u001b[0mprint\u001b[0m\u001b[0;34m(\u001b[0m\u001b[0memssage\u001b[0m\u001b[0;34m)\u001b[0m\u001b[0;34m\u001b[0m\u001b[0;34m\u001b[0m\u001b[0m\n\u001b[0m",
      "\u001b[0;31mNameError\u001b[0m: name 'emssage' is not defined"
     ]
    }
   ],
   "source": [
    "# assign a message\n",
    "message = \"Go Pokes!\"\n",
    "#now print that message, intentionally misspelling message\n",
    "print(emssage) "
   ]
  },
  {
   "cell_type": "markdown",
   "metadata": {},
   "source": [
    "# Practice problem 2 \n",
    "Given the error message in the above cell, copy the traceback error and pase it into your choice of AI tool and have it explain how to fix it.   \n",
    "Paste the citation and the tool's response in the cell below"
   ]
  },
  {
   "cell_type": "markdown",
   "metadata": {},
   "source": []
  },
  {
   "cell_type": "code",
   "execution_count": 6,
   "metadata": {
    "slideshow": {
     "slide_type": "slide"
    }
   },
   "outputs": [
    {
     "name": "stdout",
     "output_type": "stream",
     "text": [
      "Ada Lovelace\n"
     ]
    }
   ],
   "source": [
    "name = \"ada lovelace\"\n",
    "print(name.title())"
   ]
  },
  {
   "cell_type": "code",
   "execution_count": 7,
   "metadata": {
    "slideshow": {
     "slide_type": "slide"
    }
   },
   "outputs": [
    {
     "name": "stdout",
     "output_type": "stream",
     "text": [
      "ADA LOVELACE\n",
      "ada lovelace\n"
     ]
    }
   ],
   "source": [
    "name = \"Ada Lovelace\"\n",
    "print(name.upper())\n",
    "print(name.lower())"
   ]
  },
  {
   "cell_type": "code",
   "execution_count": 2,
   "metadata": {
    "slideshow": {
     "slide_type": "slide"
    }
   },
   "outputs": [
    {
     "name": "stdout",
     "output_type": "stream",
     "text": [
      "ada lovelace\n"
     ]
    }
   ],
   "source": [
    "first_name = \"ada\"\n",
    "last_name = \"lovelace\"\n",
    "full_name = f\"{first_name} {last_name}\"\n",
    "print(full_name)"
   ]
  },
  {
   "cell_type": "code",
   "execution_count": 4,
   "metadata": {
    "slideshow": {
     "slide_type": "slide"
    }
   },
   "outputs": [
    {
     "name": "stdout",
     "output_type": "stream",
     "text": [
      "Hello There, Ada Lovelace\n"
     ]
    }
   ],
   "source": [
    "first_name = \"ada\"\n",
    "last_name = \"lovelace\"\n",
    "full_name = f\"{first_name} {last_name}\"\n",
    "print(f\"Hello There, {full_name.title()}\")"
   ]
  },
  {
   "cell_type": "markdown",
   "metadata": {},
   "source": [
    "# Practice problem 3 \n",
    "For the name `Pistol Pete` create the following: \n",
    "* A variable `f_name` with the string value `pistol`\n",
    "* A variable `l_name` with the string value `pete` \n",
    "* A variable `title_name` that is a combination of the previous two variables, with the full string as title case \n",
    "    * I expect you to sue the variables and string methods, not just assign the string `Pistol Pete` \n",
    "* Print:\n",
    "    * The full name in lowercase\n",
    "    * The first name in all uppercase \n",
    "    * The last name in all titlecase"
   ]
  },
  {
   "cell_type": "code",
   "execution_count": null,
   "metadata": {},
   "outputs": [],
   "source": []
  },
  {
   "cell_type": "code",
   "execution_count": 7,
   "metadata": {
    "slideshow": {
     "slide_type": "slide"
    }
   },
   "outputs": [
    {
     "name": "stdout",
     "output_type": "stream",
     "text": [
      "python\n",
      "\tpython\n",
      "--------------\n",
      "pythonpython\n",
      "python\n",
      "python\n",
      "--------------\n",
      "python\n",
      "\tpython\n"
     ]
    }
   ],
   "source": [
    "print(\"python\")\n",
    "print(\"\\tpython\")\n",
    "\n",
    "print(\"--------------\")\n",
    "print(\"pythonpython\")\n",
    "print(\"python\\npython\")\n",
    "print(\"--------------\")\n",
    "print(\"python\\n\\tpython\")"
   ]
  },
  {
   "cell_type": "code",
   "execution_count": 8,
   "metadata": {
    "slideshow": {
     "slide_type": "slide"
    }
   },
   "outputs": [
    {
     "name": "stdout",
     "output_type": "stream",
     "text": [
      "py    thon\n",
      "python\n"
     ]
    }
   ],
   "source": [
    "string_one = \"py    \"\n",
    "string_two = \"thon\"\n",
    "\n",
    "print(f\"{string_one}{string_two}\")\n",
    "print(f\"{string_one.rstrip()}{string_two}\")"
   ]
  },
  {
   "cell_type": "code",
   "execution_count": 9,
   "metadata": {
    "slideshow": {
     "slide_type": "slide"
    }
   },
   "outputs": [
    {
     "name": "stdout",
     "output_type": "stream",
     "text": [
      "py    thon\n",
      "python\n",
      "py    thon\n",
      "python\n"
     ]
    }
   ],
   "source": [
    "string_one = \"py    \"\n",
    "string_two = \"thon\"\n",
    "\n",
    "print(f\"{string_one}{string_two}\")\n",
    "print(f\"{string_one.rstrip()}{string_two}\")\n",
    "\n",
    "print(f\"{string_one}{string_two}\")\n",
    "\n",
    "string_one = string_one.rstrip()\n",
    "print(f\"{string_one}{string_two}\")"
   ]
  },
  {
   "cell_type": "code",
   "execution_count": 10,
   "metadata": {
    "slideshow": {
     "slide_type": "slide"
    }
   },
   "outputs": [
    {
     "name": "stdout",
     "output_type": "stream",
     "text": [
      "py    thon\n",
      "python\n",
      "*   python   *\n",
      "*python*\n"
     ]
    }
   ],
   "source": [
    "string_one = \"py\"\n",
    "string_two = \"    thon\"\n",
    "print(f\"{string_one}{string_two}\")\n",
    "print(f\"{string_one}{string_two.lstrip()}\")\n",
    "\n",
    "string_three = \"   python   \"\n",
    "print(f\"*{string_three}*\")\n",
    "print(f\"*{string_three.strip()}*\")"
   ]
  },
  {
   "cell_type": "code",
   "execution_count": 12,
   "metadata": {
    "slideshow": {
     "slide_type": "slide"
    }
   },
   "outputs": [
    {
     "name": "stdout",
     "output_type": "stream",
     "text": [
      "https://wyoweb.uwyo.edu/\n",
      "wyoweb.uwyo.edu/\n"
     ]
    }
   ],
   "source": [
    "wyoweb = \"https://wyoweb.uwyo.edu/\"\n",
    "print(wyoweb)\n",
    "\n",
    "\n",
    "\n",
    "print(wyoweb.removeprefix(\"https://\"))"
   ]
  },
  {
   "cell_type": "markdown",
   "metadata": {},
   "source": [
    "# Practice problem 4\n",
    "f-strings and Concatenation\n",
    "We have already seen how to create new strings using `f-strings` but we can also use a tool called *string concatenation*   \n",
    "This is done using the *+* operator and strings \n",
    "For example we could have\n",
    "```\n",
    "f_name = \"ada\"\n",
    "l_name = \"lovelace\" \n",
    "full_name = f\"{f_name} {l_name}\"\n",
    "```\n",
    "Alternatively we could have:\n",
    "```\n",
    "f_name = \"ada\"\n",
    "l_name = \"lovelace\" \n",
    "full_name = f_name + \" \" + l_name\n",
    "```\n",
    "\n",
    "Given the above, create three variables:\n",
    "* city\n",
    "* state\n",
    "* year \n",
    "\n",
    "print the following string twice, using both `f-strings` and `concatenation` \n",
    "\n",
    "**I moved to Laramie, Wyoming in 2025**"
   ]
  },
  {
   "cell_type": "code",
   "execution_count": null,
   "metadata": {},
   "outputs": [],
   "source": []
  },
  {
   "cell_type": "code",
   "execution_count": 13,
   "metadata": {
    "slideshow": {
     "slide_type": "slide"
    }
   },
   "outputs": [
    {
     "ename": "SyntaxError",
     "evalue": "unterminated string literal (detected at line 1) (3334084592.py, line 1)",
     "output_type": "error",
     "traceback": [
      "\u001b[0;36m  File \u001b[0;32m\"/tmp/ipykernel_11649/3334084592.py\"\u001b[0;36m, line \u001b[0;32m1\u001b[0m\n\u001b[0;31m    print(`'cause the western folks all know, he's a high-falootin', rootin, tootin', '`)\u001b[0m\n\u001b[0m                                                                                      ^\u001b[0m\n\u001b[0;31mSyntaxError\u001b[0m\u001b[0;31m:\u001b[0m unterminated string literal (detected at line 1)\n"
     ]
    }
   ],
   "source": [
    "print(`'cause the western folks all know, he's a high-falootin', rootin, tootin', '`)"
   ]
  },
  {
   "cell_type": "markdown",
   "metadata": {},
   "source": [
    "# Practice problem 5 \n",
    "\n",
    "Remember proper quotation use and nesting is important, in the following cell fix all the errors "
   ]
  },
  {
   "cell_type": "code",
   "execution_count": null,
   "metadata": {},
   "outputs": [],
   "source": [
    "# print('It's a great day at UWYO!')\n",
    "# print(`this uses backticks and will error`)\n",
    "# print('He said, \"Go Pokes!\" and left.')\n",
    "# print(\"'cause the western folks all know, he's a high‑falutin', rootin', tootin'\")"
   ]
  },
  {
   "cell_type": "code",
   "execution_count": 15,
   "metadata": {
    "slideshow": {
     "slide_type": "slide"
    }
   },
   "outputs": [
    {
     "name": "stdout",
     "output_type": "stream",
     "text": [
      "14\n",
      "20\n"
     ]
    }
   ],
   "source": [
    "x = 2+3*4\n",
    "print(x)\n",
    "y = (2+3)*4\n",
    "print(y)"
   ]
  },
  {
   "cell_type": "code",
   "execution_count": 17,
   "metadata": {
    "slideshow": {
     "slide_type": "slide"
    }
   },
   "outputs": [
    {
     "name": "stdout",
     "output_type": "stream",
     "text": [
      "0.2\n",
      "0.4\n",
      "0.2\n"
     ]
    }
   ],
   "source": [
    "x = 0.1 + 0.1\n",
    "print(x)\n",
    "\n",
    "y = 0.2 + 0.2\n",
    "print(y)\n",
    "\n",
    "z = 2 * 0.1\n",
    "print(z)"
   ]
  },
  {
   "cell_type": "code",
   "execution_count": 19,
   "metadata": {
    "slideshow": {
     "slide_type": "slide"
    }
   },
   "outputs": [
    {
     "name": "stdout",
     "output_type": "stream",
     "text": [
      "0.30000000000000004\n",
      "0.30000000000000004\n"
     ]
    }
   ],
   "source": [
    "x = 0.1 + 0.2\n",
    "print(x)\n",
    "\n",
    "y = 3 * 0.1\n",
    "print(y)"
   ]
  },
  {
   "cell_type": "code",
   "execution_count": 21,
   "metadata": {
    "slideshow": {
     "slide_type": "slide"
    }
   },
   "outputs": [
    {
     "name": "stdout",
     "output_type": "stream",
     "text": [
      "2.0\n",
      "3.0\n",
      "6.0\n",
      "9.0\n"
     ]
    }
   ],
   "source": [
    "print(4/2)\n",
    "print(1+2.0)\n",
    "print(2*3.0)\n",
    "print(3.0**2)"
   ]
  },
  {
   "cell_type": "code",
   "execution_count": 22,
   "metadata": {
    "slideshow": {
     "slide_type": "slide"
    }
   },
   "outputs": [
    {
     "name": "stdout",
     "output_type": "stream",
     "text": [
      "14000000000\n"
     ]
    }
   ],
   "source": [
    "universe_age = 14_000_000_000\n",
    "print(universe_age)"
   ]
  },
  {
   "cell_type": "code",
   "execution_count": 25,
   "metadata": {
    "slideshow": {
     "slide_type": "slide"
    }
   },
   "outputs": [
    {
     "name": "stdout",
     "output_type": "stream",
     "text": [
      "1 2 3\n"
     ]
    }
   ],
   "source": [
    "x,y,z = 1,2,3 \n",
    "print(x,y,z)"
   ]
  },
  {
   "cell_type": "markdown",
   "metadata": {},
   "source": [
    "# Practice problem 6\n",
    "Using proper order of operations suppose you are buying two items \n",
    "* One is priced at $19.99\n",
    "* The second at $27.50 \n",
    "Given a sales tax rate of 6% create a variable for each of the two items and a **constant** for the sales tax \n",
    "\n",
    "Output the total sale, including tax "
   ]
  },
  {
   "cell_type": "code",
   "execution_count": null,
   "metadata": {},
   "outputs": [],
   "source": []
  },
  {
   "cell_type": "markdown",
   "metadata": {},
   "source": [
    "# Bonus\n",
    "* Floor vs true division \n",
    "    * Get the output of a division using both `/` and `//` \n",
    "* Variable swapping \n",
    "    * Given two variables write a program that swaps their values "
   ]
  },
  {
   "cell_type": "code",
   "execution_count": null,
   "metadata": {
    "vscode": {
     "languageId": "plaintext"
    }
   },
   "outputs": [],
   "source": []
  }
 ],
 "metadata": {
  "celltoolbar": "Slideshow",
  "kernelspec": {
   "display_name": "Python 3 (ipykernel)",
   "language": "python",
   "name": "python3"
  },
  "language_info": {
   "codemirror_mode": {
    "name": "ipython",
    "version": 3
   },
   "file_extension": ".py",
   "mimetype": "text/x-python",
   "name": "python",
   "nbconvert_exporter": "python",
   "pygments_lexer": "ipython3",
   "version": "3.10.12"
  }
 },
 "nbformat": 4,
 "nbformat_minor": 2
}
