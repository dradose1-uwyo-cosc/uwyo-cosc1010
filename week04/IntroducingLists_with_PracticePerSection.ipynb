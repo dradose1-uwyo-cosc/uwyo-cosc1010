{
 "cells": [
  {
   "cell_type": "markdown",
   "metadata": {},
   "source": [
    "# Place your present groupmates, sources, etc here: \n",
    "\n",
    "**Group Members Present**    \n",
    "*    \n",
    "*    \n",
    "*    \n",
    "*    \n",
    "*    \n",
    "*    \n",
    "**Group Number []**   \n",
    "**Submission Date []**   \n",
    "**Sources**   \n"
   ]
  },
  {
   "cell_type": "markdown",
   "metadata": {},
   "source": [
    "# List basics"
   ]
  },
  {
   "cell_type": "code",
   "execution_count": 1,
   "metadata": {
    "slideshow": {
     "slide_type": "slide"
    }
   },
   "outputs": [
    {
     "name": "stdout",
     "output_type": "stream",
     "text": [
      "['trek', 'cannondale', 'specialized']\n"
     ]
    }
   ],
   "source": [
    "# create our list of bikes \n",
    "bikes = [\"trek\",\"cannondale\",\"specialized\"]\n",
    "# and print the list \n",
    "print(bikes)"
   ]
  },
  {
   "cell_type": "code",
   "execution_count": 2,
   "metadata": {
    "slideshow": {
     "slide_type": "slide"
    }
   },
   "outputs": [
    {
     "name": "stdout",
     "output_type": "stream",
     "text": [
      "trek\n"
     ]
    }
   ],
   "source": [
    "bikes = [\"trek\",\"cannondale\",\"specialized\"]\n",
    "print(bikes[0])"
   ]
  },
  {
   "cell_type": "code",
   "execution_count": 3,
   "metadata": {
    "slideshow": {
     "slide_type": "slide"
    }
   },
   "outputs": [
    {
     "name": "stdout",
     "output_type": "stream",
     "text": [
      "Trek\n"
     ]
    }
   ],
   "source": [
    "bikes = [\"trek\",\"cannondale\",\"specialized\"]\n",
    "print(bikes[0].title())"
   ]
  },
  {
   "cell_type": "code",
   "execution_count": 4,
   "metadata": {
    "slideshow": {
     "slide_type": "slide"
    }
   },
   "outputs": [
    {
     "name": "stdout",
     "output_type": "stream",
     "text": [
      "Specialized\n"
     ]
    }
   ],
   "source": [
    "bikes = [\"trek\",\"cannondale\",\"specialized\"]\n",
    "print(bikes[-1].title())"
   ]
  },
  {
   "cell_type": "code",
   "execution_count": 5,
   "metadata": {
    "slideshow": {
     "slide_type": "slide"
    }
   },
   "outputs": [
    {
     "name": "stdout",
     "output_type": "stream",
     "text": [
      "My first bike was a Trek\n"
     ]
    }
   ],
   "source": [
    "bikes = [\"trek\",\"cannondale\",\"specialized\"]\n",
    "message = f\"My first bike was a {bikes[0].title()}\"\n",
    "print(message)"
   ]
  },
  {
   "cell_type": "markdown",
   "id": "7c9cde54",
   "metadata": {},
   "source": [
    "### Practice — Try It Yourself\n",
    "Do a small experiment related to **List basics**.   \n",
    "Create a list and fill it with 5 animals as strings    \n",
    "Create a second list and fill it with numbers"
   ]
  },
  {
   "cell_type": "code",
   "execution_count": null,
   "id": "4c336aa6",
   "metadata": {},
   "outputs": [],
   "source": [
    "# TODO\n"
   ]
  },
  {
   "cell_type": "markdown",
   "metadata": {},
   "source": [
    "# List Modifications"
   ]
  },
  {
   "cell_type": "markdown",
   "metadata": {},
   "source": [
    "## Changing elements"
   ]
  },
  {
   "cell_type": "code",
   "execution_count": 1,
   "metadata": {
    "slideshow": {
     "slide_type": "slide"
    }
   },
   "outputs": [
    {
     "name": "stdout",
     "output_type": "stream",
     "text": [
      "['Laramie', 'Casper', 'Jackson Hole', 'Cheyenne']\n",
      "['Laramie', 'Casper', 'Jackson Hole', 'Sheridan']\n"
     ]
    }
   ],
   "source": [
    "cities = [\"Laramie\",\"Casper\",\"Jackson Hole\",\"Cheyenne\"]\n",
    "print(cities)\n",
    "\n",
    "cities[3] = \"Sheridan\"\n",
    "print(cities)"
   ]
  },
  {
   "cell_type": "markdown",
   "id": "8da38349",
   "metadata": {},
   "source": [
    "### Practice — Try It Yourself\n",
    "Do a small experiment related to **List Modifications**.\n",
    "\n",
    "Bring one of your previous lists into this cell and assign new values to some of the elements "
   ]
  },
  {
   "cell_type": "code",
   "execution_count": null,
   "id": "f21897ba",
   "metadata": {},
   "outputs": [],
   "source": [
    "# TODO\n"
   ]
  },
  {
   "cell_type": "markdown",
   "metadata": {},
   "source": [
    "## Adding elements"
   ]
  },
  {
   "cell_type": "code",
   "execution_count": 2,
   "metadata": {
    "slideshow": {
     "slide_type": "slide"
    }
   },
   "outputs": [
    {
     "name": "stdout",
     "output_type": "stream",
     "text": [
      "['Laramie', 'Casper', 'Jackson Hole', 'Cheyenne']\n",
      "['Laramie', 'Casper', 'Jackson Hole', 'Cheyenne', 'Sheridan']\n"
     ]
    }
   ],
   "source": [
    "cities = [\"Laramie\",\"Casper\",\"Jackson Hole\",\"Cheyenne\"]\n",
    "print(cities)\n",
    "\n",
    "cities.append(\"Sheridan\")\n",
    "print(cities)"
   ]
  },
  {
   "cell_type": "code",
   "execution_count": 3,
   "metadata": {
    "slideshow": {
     "slide_type": "slide"
    }
   },
   "outputs": [
    {
     "name": "stdout",
     "output_type": "stream",
     "text": [
      "['dog', 'cat', 'bird']\n"
     ]
    }
   ],
   "source": [
    "#declare the empty list\n",
    "animals = [] \n",
    "#now add in different animals\n",
    "animals.append(\"dog\")\n",
    "animals.append(\"cat\")\n",
    "animals.append(\"bird\")\n",
    "\n",
    "print(animals)"
   ]
  },
  {
   "cell_type": "code",
   "execution_count": 4,
   "metadata": {
    "slideshow": {
     "slide_type": "slide"
    }
   },
   "outputs": [
    {
     "name": "stdout",
     "output_type": "stream",
     "text": [
      "['Laramie', 'Casper', 'Jackson Hole', 'Cheyenne']\n",
      "['Laramie', 'Sheridan', 'Casper', 'Jackson Hole', 'Cheyenne']\n"
     ]
    }
   ],
   "source": [
    "cities = [\"Laramie\",\"Casper\",\"Jackson Hole\",\"Cheyenne\"]\n",
    "print(cities)\n",
    "\n",
    "cities.insert(1,\"Sheridan\")\n",
    "print(cities)"
   ]
  },
  {
   "cell_type": "markdown",
   "id": "fee636fe",
   "metadata": {},
   "source": [
    "### Practice — Adding Elements\n",
    "Start with an empty list. Add three states manually  one by one. Print the result each time."
   ]
  },
  {
   "cell_type": "code",
   "execution_count": null,
   "id": "be6c8684",
   "metadata": {},
   "outputs": [],
   "source": [
    "# TODO\n",
    "items = []\n"
   ]
  },
  {
   "cell_type": "markdown",
   "metadata": {},
   "source": [
    "## Removing Elements"
   ]
  },
  {
   "cell_type": "code",
   "execution_count": 5,
   "metadata": {
    "slideshow": {
     "slide_type": "slide"
    }
   },
   "outputs": [
    {
     "name": "stdout",
     "output_type": "stream",
     "text": [
      "['Laramie', 'Casper', 'Jackson Hole', 'Cheyenne']\n",
      "['Laramie', 'Jackson Hole', 'Cheyenne']\n"
     ]
    }
   ],
   "source": [
    "cities = [\"Laramie\",\"Casper\",\"Jackson Hole\",\"Cheyenne\"]\n",
    "print(cities)\n",
    "\n",
    "del cities[1]\n",
    "print(cities)"
   ]
  },
  {
   "cell_type": "code",
   "execution_count": 6,
   "metadata": {
    "slideshow": {
     "slide_type": "slide"
    }
   },
   "outputs": [
    {
     "name": "stdout",
     "output_type": "stream",
     "text": [
      "['Laramie', 'Casper', 'Jackson Hole', 'Cheyenne']\n",
      "We removed Cheyenne\n",
      "['Laramie', 'Casper', 'Jackson Hole']\n"
     ]
    }
   ],
   "source": [
    "cities = [\"Laramie\",\"Casper\",\"Jackson Hole\",\"Cheyenne\"]\n",
    "print(cities)\n",
    "\n",
    "print(f\"We removed {cities.pop()}\")\n",
    "\n",
    "print(cities)"
   ]
  },
  {
   "cell_type": "code",
   "execution_count": 7,
   "metadata": {
    "slideshow": {
     "slide_type": "slide"
    }
   },
   "outputs": [
    {
     "name": "stdout",
     "output_type": "stream",
     "text": [
      "['Laramie', 'Casper', 'Jackson Hole', 'Cheyenne']\n",
      "We removed Casper\n",
      "['Laramie', 'Jackson Hole', 'Cheyenne']\n"
     ]
    }
   ],
   "source": [
    "cities = [\"Laramie\",\"Casper\",\"Jackson Hole\",\"Cheyenne\"]\n",
    "print(cities)\n",
    "\n",
    "print(f\"We removed {cities.pop(1)}\")\n",
    "\n",
    "print(cities)"
   ]
  },
  {
   "cell_type": "code",
   "execution_count": 10,
   "metadata": {
    "slideshow": {
     "slide_type": "slide"
    }
   },
   "outputs": [
    {
     "name": "stdout",
     "output_type": "stream",
     "text": [
      "['Laramie', 'Casper', 'Jackson Hole', 'Cheyenne']\n",
      "['Laramie', 'Jackson Hole', 'Cheyenne']\n"
     ]
    }
   ],
   "source": [
    "cities = [\"Laramie\",\"Casper\",\"Jackson Hole\",\"Cheyenne\"]\n",
    "print(cities)\n",
    "\n",
    "cities.remove('Casper')\n",
    "\n",
    "print(cities)"
   ]
  },
  {
   "cell_type": "markdown",
   "id": "0a31d913",
   "metadata": {},
   "source": [
    "### Practice — Try It Yourself\n",
    "Do a small experiment related to **Removing Elements**.   \n",
    "You can use one of your previous lists for this experiment, print a before and after\n",
    "* Using both the `del` statement and `.pop()` function\n",
    "    * Using `.pop()` print what was removed!"
   ]
  },
  {
   "cell_type": "code",
   "execution_count": null,
   "id": "cb4860db",
   "metadata": {},
   "outputs": [],
   "source": [
    "# TODO\n"
   ]
  },
  {
   "cell_type": "markdown",
   "metadata": {},
   "source": [
    "# Sorting Lists"
   ]
  },
  {
   "cell_type": "code",
   "execution_count": 11,
   "metadata": {
    "slideshow": {
     "slide_type": "slide"
    }
   },
   "outputs": [
    {
     "name": "stdout",
     "output_type": "stream",
     "text": [
      "['Laramie', 'Casper', 'Jackson Hole', 'Cheyenne']\n",
      "['Casper', 'Cheyenne', 'Jackson Hole', 'Laramie']\n"
     ]
    }
   ],
   "source": [
    "cities = [\"Laramie\",\"Casper\",\"Jackson Hole\",\"Cheyenne\"]\n",
    "print(cities)\n",
    "\n",
    "cities.sort() \n",
    "print(cities)"
   ]
  },
  {
   "cell_type": "code",
   "execution_count": 12,
   "metadata": {
    "slideshow": {
     "slide_type": "slide"
    }
   },
   "outputs": [
    {
     "name": "stdout",
     "output_type": "stream",
     "text": [
      "['Laramie', 'Casper', 'Jackson Hole', 'Cheyenne']\n",
      "['Laramie', 'Jackson Hole', 'Cheyenne', 'Casper']\n"
     ]
    }
   ],
   "source": [
    "cities = [\"Laramie\",\"Casper\",\"Jackson Hole\",\"Cheyenne\"]\n",
    "print(cities)\n",
    "\n",
    "cities.sort(reverse=True) \n",
    "print(cities)"
   ]
  },
  {
   "cell_type": "code",
   "execution_count": 1,
   "metadata": {
    "slideshow": {
     "slide_type": "slide"
    }
   },
   "outputs": [
    {
     "name": "stdout",
     "output_type": "stream",
     "text": [
      "['Laramie', 'Casper', 'Jackson Hole', 'Cheyenne']\n",
      "['Casper', 'Cheyenne', 'Jackson Hole', 'Laramie']\n",
      "['Laramie', 'Casper', 'Jackson Hole', 'Cheyenne']\n"
     ]
    }
   ],
   "source": [
    "cities = [\"Laramie\",\"Casper\",\"Jackson Hole\",\"Cheyenne\"]\n",
    "print(cities)\n",
    "\n",
    "print(sorted(cities))\n",
    "\n",
    "print(cities)"
   ]
  },
  {
   "cell_type": "code",
   "execution_count": 2,
   "metadata": {
    "slideshow": {
     "slide_type": "slide"
    }
   },
   "outputs": [
    {
     "name": "stdout",
     "output_type": "stream",
     "text": [
      "['Laramie', 'Casper', 'Jackson Hole', 'Cheyenne']\n",
      "['Cheyenne', 'Jackson Hole', 'Casper', 'Laramie']\n",
      "['Laramie', 'Casper', 'Jackson Hole', 'Cheyenne']\n"
     ]
    }
   ],
   "source": [
    "cities = [\"Laramie\",\"Casper\",\"Jackson Hole\",\"Cheyenne\"]\n",
    "print(cities)\n",
    "cities.reverse() \n",
    "print(cities)\n",
    "cities.reverse()\n",
    "print(cities)"
   ]
  },
  {
   "cell_type": "markdown",
   "id": "69cecf1d",
   "metadata": {},
   "source": [
    "### Practice — Sorting\n",
    "Create a list of 5 words. Print it sorted alphabetically, then in reverse order."
   ]
  },
  {
   "cell_type": "code",
   "execution_count": null,
   "id": "c942cbfa",
   "metadata": {},
   "outputs": [],
   "source": [
    "# TODO\n",
    "words = []\n"
   ]
  },
  {
   "cell_type": "markdown",
   "metadata": {},
   "source": [
    "# Checking Size and Errors"
   ]
  },
  {
   "cell_type": "code",
   "execution_count": 3,
   "metadata": {
    "slideshow": {
     "slide_type": "slide"
    }
   },
   "outputs": [
    {
     "name": "stdout",
     "output_type": "stream",
     "text": [
      "4\n"
     ]
    }
   ],
   "source": [
    "cities = [\"Laramie\",\"Casper\",\"Jackson Hole\",\"Cheyenne\"]\n",
    "print(len(cities))"
   ]
  },
  {
   "cell_type": "code",
   "execution_count": 4,
   "metadata": {
    "slideshow": {
     "slide_type": "slide"
    }
   },
   "outputs": [
    {
     "ename": "IndexError",
     "evalue": "list index out of range",
     "output_type": "error",
     "traceback": [
      "\u001b[0;31m---------------------------------------------------------------------------\u001b[0m",
      "\u001b[0;31mIndexError\u001b[0m                                Traceback (most recent call last)",
      "\u001b[0;32m/tmp/ipykernel_1339/3269608785.py\u001b[0m in \u001b[0;36m<module>\u001b[0;34m\u001b[0m\n\u001b[1;32m      1\u001b[0m \u001b[0mcities\u001b[0m \u001b[0;34m=\u001b[0m \u001b[0;34m[\u001b[0m\u001b[0;34m\"Laramie\"\u001b[0m\u001b[0;34m,\u001b[0m\u001b[0;34m\"Casper\"\u001b[0m\u001b[0;34m,\u001b[0m\u001b[0;34m\"Jackson Hole\"\u001b[0m\u001b[0;34m,\u001b[0m\u001b[0;34m\"Cheyenne\"\u001b[0m\u001b[0;34m]\u001b[0m\u001b[0;34m\u001b[0m\u001b[0;34m\u001b[0m\u001b[0m\n\u001b[0;32m----> 2\u001b[0;31m \u001b[0mprint\u001b[0m\u001b[0;34m(\u001b[0m\u001b[0mcities\u001b[0m\u001b[0;34m[\u001b[0m\u001b[0;36m4\u001b[0m\u001b[0;34m]\u001b[0m\u001b[0;34m)\u001b[0m\u001b[0;34m\u001b[0m\u001b[0;34m\u001b[0m\u001b[0m\n\u001b[0m",
      "\u001b[0;31mIndexError\u001b[0m: list index out of range"
     ]
    }
   ],
   "source": [
    "cities = [\"Laramie\",\"Casper\",\"Jackson Hole\",\"Cheyenne\"]\n",
    "print(cities[4])"
   ]
  },
  {
   "cell_type": "markdown",
   "id": "a7713638",
   "metadata": {},
   "source": [
    "### Practice — Try It Yourself\n",
    "Do a small experiment related to **Checking Size and Errors**.\n",
    "\n",
    "Create a list with a random number of numerical elements   \n",
    "Assign the length of the list to a variable using the `len()` function   \n",
    "Try accessing an element with that variable as the index"
   ]
  },
  {
   "cell_type": "code",
   "execution_count": null,
   "id": "583c00f7",
   "metadata": {},
   "outputs": [],
   "source": [
    "# TODO\n"
   ]
  }
 ],
 "metadata": {
  "celltoolbar": "Slideshow",
  "kernelspec": {
   "display_name": "Python 3 (ipykernel)",
   "language": "python",
   "name": "python3"
  },
  "language_info": {
   "codemirror_mode": {
    "name": "ipython",
    "version": 3
   },
   "file_extension": ".py",
   "mimetype": "text/x-python",
   "name": "python",
   "nbconvert_exporter": "python",
   "pygments_lexer": "ipython3",
   "version": "3.10.12"
  }
 },
 "nbformat": 4,
 "nbformat_minor": 2
}
