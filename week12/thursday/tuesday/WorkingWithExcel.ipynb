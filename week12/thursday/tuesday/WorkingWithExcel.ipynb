{
 "cells": [
  {
   "cell_type": "markdown",
   "metadata": {},
   "source": [
    "# <p style=\"text-align: Center;\">Working with Excel Spreadsheets</p>\n",
    "## <p style=\"text-align: Center;\">University of Wyoming COSC 1010</p>\n",
    "### <p style=\"text-align: Center;\">Adapted from: *Automate the Boring Stuff with Python* By Al Sweigart </p>"
   ]
  },
  {
   "cell_type": "code",
   "execution_count": 2,
   "metadata": {},
   "outputs": [
    {
     "name": "stdout",
     "output_type": "stream",
     "text": [
      "<class 'openpyxl.workbook.workbook.Workbook'>\n"
     ]
    }
   ],
   "source": [
    "import openpyxl \n",
    "\n",
    "wb = openpyxl.load_workbook('example.xlsx')\n",
    "print(type(wb))"
   ]
  },
  {
   "cell_type": "code",
   "execution_count": 3,
   "metadata": {},
   "outputs": [
    {
     "name": "stdout",
     "output_type": "stream",
     "text": [
      "['Sheet1', 'Sheet2', 'Sheet3']\n",
      "Sheet1 <class 'str'> <class 'openpyxl.worksheet.worksheet.Worksheet'>\n",
      "Sheet2 <class 'str'> <class 'openpyxl.worksheet.worksheet.Worksheet'>\n",
      "Sheet3 <class 'str'> <class 'openpyxl.worksheet.worksheet.Worksheet'>\n",
      "<Worksheet \"Sheet1\">\n"
     ]
    }
   ],
   "source": [
    "# we already have wb opened from the previous code snippet \n",
    "print(wb.sheetnames)\n",
    "for sheet in wb.sheetnames:\n",
    "    print(sheet, type(sheet), type(wb[sheet]))\n",
    "print(wb.active)"
   ]
  },
  {
   "cell_type": "code",
   "execution_count": 4,
   "metadata": {},
   "outputs": [
    {
     "name": "stdout",
     "output_type": "stream",
     "text": [
      "<Cell 'Sheet1'.B1>\n",
      "Apples\n",
      "1\n",
      "2 B\n",
      "B1\n"
     ]
    }
   ],
   "source": [
    "examp_sheet = wb[wb.sheetnames[0]] \n",
    "examp_cell = examp_sheet['B1']\n",
    "print(examp_cell)\n",
    "print(examp_cell.value)\n",
    "print(examp_cell.row)\n",
    "print(examp_cell.column, examp_cell.column_letter)\n",
    "print(examp_cell.coordinate)"
   ]
  },
  {
   "cell_type": "code",
   "execution_count": 5,
   "metadata": {},
   "outputs": [
    {
     "name": "stdout",
     "output_type": "stream",
     "text": [
      "Apples\n"
     ]
    }
   ],
   "source": [
    "print(examp_sheet.cell(1,2).value)"
   ]
  },
  {
   "cell_type": "code",
   "execution_count": 6,
   "metadata": {},
   "outputs": [
    {
     "name": "stdout",
     "output_type": "stream",
     "text": [
      "Apples\n",
      "Cherries\n",
      "Pears\n",
      "Oranges\n",
      "Apples\n",
      "Bananas\n",
      "Strawberries\n"
     ]
    }
   ],
   "source": [
    "for i in range(1,examp_sheet.max_row + 1):\n",
    "    print(examp_sheet.cell(i,2).value)"
   ]
  },
  {
   "cell_type": "code",
   "execution_count": 7,
   "metadata": {},
   "outputs": [
    {
     "name": "stdout",
     "output_type": "stream",
     "text": [
      "AA\n",
      "27\n"
     ]
    }
   ],
   "source": [
    "from openpyxl.utils import get_column_letter, column_index_from_string\n",
    "\n",
    "print(get_column_letter(27))\n",
    "\n",
    "print(column_index_from_string(\"AA\"))"
   ]
  },
  {
   "cell_type": "code",
   "execution_count": 9,
   "metadata": {},
   "outputs": [
    {
     "name": "stdout",
     "output_type": "stream",
     "text": [
      "((<Cell 'Sheet1'.A1>, <Cell 'Sheet1'.B1>, <Cell 'Sheet1'.C1>), (<Cell 'Sheet1'.A2>, <Cell 'Sheet1'.B2>, <Cell 'Sheet1'.C2>), (<Cell 'Sheet1'.A3>, <Cell 'Sheet1'.B3>, <Cell 'Sheet1'.C3>))\n",
      "A1 2015-04-05 13:34:02\n",
      "B1 Apples\n",
      "C1 73\n",
      "A2 2015-04-05 03:41:23\n",
      "B2 Cherries\n",
      "C2 85\n",
      "A3 2015-04-06 12:46:51\n",
      "B3 Pears\n",
      "C3 14\n"
     ]
    }
   ],
   "source": [
    "exam_sh_tuple = tuple(examp_sheet['A1':'C3'])\n",
    "print(exam_sh_tuple)\n",
    "for rowOfCells in exam_sh_tuple:\n",
    "    for cellObj in rowOfCells:\n",
    "        print( cellObj.coordinate, cellObj.value)"
   ]
  },
  {
   "cell_type": "markdown",
   "metadata": {},
   "source": [
    "## Getting Rows and Columns from the Sheets\n",
    "--- \n",
    "* There we specified that we wanted the `Cell` objects inn a rectangular range \n",
    "    * A1 to C3\n",
    "* It was stored in a tuple, but could have been a list \n",
    "* The tuple contains three sub tuples, one tuple for each row\n",
    "    * The inner tuples contain the cell objects for each individual row\n",
    "* Two loops are needed\n",
    "    * The outer for each row in the slice\n",
    "    * The inner for each cell in the row\n"
   ]
  },
  {
   "cell_type": "markdown",
   "metadata": {},
   "source": [
    "## Getting Rows and Columns from the Sheets\n",
    "--- \n",
    "* To access teh values of cells in a  particular row or column, `Worksheet` has attributes for `rows` and `columns`\n",
    "* Using `rows` will give a tuple of tuples\n",
    "    * Outer tuples again represent rows\n",
    "    * Inner tuples representing the cell objects \n",
    "* Using columns will give a tuple of tuples\n",
    "    * With each inner tuple givin the `Cell` for a particular column"
   ]
  },
  {
   "cell_type": "code",
   "execution_count": 32,
   "metadata": {},
   "outputs": [
    {
     "name": "stdout",
     "output_type": "stream",
     "text": [
      "7\n",
      "2015-04-05 13:34:02\tApples\t73\t\n",
      "2015-04-05 03:41:23\tCherries\t85\t\n",
      "2015-04-06 12:46:51\tPears\t14\t\n",
      "2015-04-08 08:59:43\tOranges\t52\t\n",
      "2015-04-10 02:07:00\tApples\t152\t\n",
      "2015-04-10 18:10:37\tBananas\t23\t\n",
      "2015-04-10 02:40:46\tStrawberries\t98\t\n"
     ]
    }
   ],
   "source": [
    "rows = tuple(examp_sheet.rows) \n",
    "\n",
    "print(len(rows))\n",
    "\n",
    "for row in rows:\n",
    "    for cell in row:\n",
    "        if cell.value:\n",
    "            print(cell.value, end=\"\\t\")\n",
    "    print()"
   ]
  },
  {
   "cell_type": "code",
   "execution_count": 12,
   "metadata": {},
   "outputs": [
    {
     "name": "stdout",
     "output_type": "stream",
     "text": [
      "3\n",
      "2015-04-05 13:34:02\n",
      "2015-04-05 03:41:23\n",
      "2015-04-06 12:46:51\n",
      "2015-04-08 08:59:43\n",
      "2015-04-10 02:07:00\n",
      "2015-04-10 18:10:37\n",
      "2015-04-10 02:40:46\n",
      "\n",
      "Apples\n",
      "Cherries\n",
      "Pears\n",
      "Oranges\n",
      "Apples\n",
      "Bananas\n",
      "Strawberries\n",
      "\n",
      "73\n",
      "85\n",
      "14\n",
      "52\n",
      "152\n",
      "23\n",
      "98\n",
      "\n"
     ]
    }
   ],
   "source": [
    "cols = tuple(examp_sheet.columns) \n",
    "\n",
    "print(len(cols))\n",
    "\n",
    "for col in cols:\n",
    "    for cell in col:\n",
    "        if cell.value:\n",
    "            print(cell.value)\n",
    "    print()"
   ]
  },
  {
   "cell_type": "code",
   "execution_count": 44,
   "metadata": {},
   "outputs": [
    {
     "name": "stdout",
     "output_type": "stream",
     "text": [
      "['Sheet']\n",
      "['NewTitle']\n"
     ]
    }
   ],
   "source": [
    "wb = openpyxl.Workbook() \n",
    "print(wb.sheetnames)\n",
    "sheet = wb.active \n",
    "sheet.title = \"NewTitle\"\n",
    "print(wb.sheetnames)\n",
    "wb.save(\"save-example.xlsx\")"
   ]
  },
  {
   "cell_type": "code",
   "execution_count": 45,
   "metadata": {},
   "outputs": [
    {
     "name": "stdout",
     "output_type": "stream",
     "text": [
      "['NewTitle']\n",
      "['NewTitle', 'Sheet']\n",
      "['NewTitle', 'Second', 'Sheet']\n"
     ]
    }
   ],
   "source": [
    "print(wb.sheetnames)\n",
    "wb.create_sheet()\n",
    "print(wb.sheetnames)\n",
    "wb.create_sheet(index=1,title=\"Second\")\n",
    "print(wb.sheetnames)"
   ]
  },
  {
   "cell_type": "code",
   "execution_count": 46,
   "metadata": {},
   "outputs": [
    {
     "name": "stdout",
     "output_type": "stream",
     "text": [
      "['NewTitle', 'Second']\n"
     ]
    }
   ],
   "source": [
    "sheet = wb[\"Sheet\"]\n",
    "wb.remove(sheet)\n",
    "print(wb.sheetnames)\n",
    "wb.save(\"save-example.xlsx\")"
   ]
  },
  {
   "cell_type": "code",
   "execution_count": 48,
   "metadata": {},
   "outputs": [
    {
     "name": "stdout",
     "output_type": "stream",
     "text": [
      "Hi Class\n"
     ]
    }
   ],
   "source": [
    "wb = openpyxl.load_workbook(\"save-example.xlsx\")\n",
    "sheet = wb[wb.sheetnames[0]]\n",
    "sheet['A1'] = \"Hi Class\"\n",
    "print(sheet['A1'].value)\n",
    "wb.save(\"save-example.xlsx\")"
   ]
  },
  {
   "cell_type": "code",
   "execution_count": 52,
   "metadata": {},
   "outputs": [
    {
     "name": "stdout",
     "output_type": "stream",
     "text": [
      "=SUM(A1:A9)\n"
     ]
    }
   ],
   "source": [
    "import random\n",
    "\n",
    "wb = openpyxl.Workbook() \n",
    "\n",
    "sheet = wb.active \n",
    "for i in range(1,10):\n",
    "    cell = 'A'+str(i)\n",
    "    sheet[cell] = random.randint(0,100)\n",
    "sheet['A10'] = '=SUM(A1:A9)'\n",
    "\n",
    "print(sheet['A10'].value)\n",
    "\n",
    "wb.save(\"formulas.xlsx\")"
   ]
  },
  {
   "cell_type": "code",
   "execution_count": 57,
   "metadata": {},
   "outputs": [
    {
     "name": "stdout",
     "output_type": "stream",
     "text": [
      "22\n",
      "498\n"
     ]
    }
   ],
   "source": [
    "wb = openpyxl.load_workbook(\"formulas.xlsx\", data_only=True)\n",
    "\n",
    "sheet = wb.active\n",
    "print(sheet['A9'].value)\n",
    "print(sheet['A10'].value)\n"
   ]
  },
  {
   "cell_type": "code",
   "execution_count": 59,
   "metadata": {},
   "outputs": [],
   "source": [
    "wb = openpyxl.Workbook() \n",
    "sheet = wb.active \n",
    "sheet['A1'] = \"Tall Row\" \n",
    "sheet['B2'] = 'Wide Column'\n",
    "sheet.row_dimensions[1].height= 70 \n",
    "sheet.column_dimensions['B'].width = 20 \n",
    "wb.save(\"dimensions.xlsx\")"
   ]
  },
  {
   "cell_type": "markdown",
   "metadata": {},
   "source": [
    "## Cell Colors \n",
    "---\n",
    "* You can utilize `openpyxl.styles` to fill cells with a color \n",
    "* It is imported much like we ahd to import something from `openpyxl.utils` "
   ]
  },
  {
   "cell_type": "code",
   "execution_count": 22,
   "metadata": {},
   "outputs": [],
   "source": [
    "from openpyxl.styles import Color, PatternFill\n",
    "import string\n",
    "wb = openpyxl.Workbook()\n",
    "sheet = wb.active\n",
    "gold = Color(rgb='ffc425')\n",
    "fill = PatternFill(patternType='solid',fgColor=gold)\n",
    "brown =  Color(rgb=\"492f24\")\n",
    "fill_b = PatternFill(patternType='solid',fgColor=brown)\n",
    "\n",
    "cells = ['B2','B3','B4','B5','B6','C6','D6','E2','E3','E4','E5','E6','G2','G3','G4','G5','H6','I5','J6','K2','K3','K4','K5']\n",
    "\n",
    "for chr in string.ascii_uppercase[:12]:\n",
    "    sheet.column_dimensions[chr].width = 5\n",
    "    for i in range(1,8):\n",
    "        sheet.row_dimensions[i].height= 20\n",
    "        coord = chr+str(i)\n",
    "        if coord in cells:\n",
    "            sheet[coord].fill = fill\n",
    "        else:\n",
    "            sheet[coord].fill = fill_b\n",
    "\n",
    "wb.save(\"colors.xlsx\")"
   ]
  },
  {
   "cell_type": "code",
   "execution_count": null,
   "metadata": {},
   "outputs": [],
   "source": []
  }
 ],
 "metadata": {
  "kernelspec": {
   "display_name": "Python 3",
   "language": "python",
   "name": "python3"
  },
  "language_info": {
   "codemirror_mode": {
    "name": "ipython",
    "version": 3
   },
   "file_extension": ".py",
   "mimetype": "text/x-python",
   "name": "python",
   "nbconvert_exporter": "python",
   "pygments_lexer": "ipython3",
   "version": "3.10.12"
  }
 },
 "nbformat": 4,
 "nbformat_minor": 2
}
