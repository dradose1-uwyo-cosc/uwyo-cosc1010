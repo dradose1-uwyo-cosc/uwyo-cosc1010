{
 "cells": [
  {
   "cell_type": "code",
   "execution_count": 1,
   "metadata": {
    "slideshow": {
     "slide_type": "slide"
    }
   },
   "outputs": [
    {
     "name": "stdout",
     "output_type": "stream",
     "text": [
      "The capitol of Wyoming is Cheyenne\n"
     ]
    }
   ],
   "source": [
    "states = {\"Wyoming\":\"Cheyenne\",\"Colorado\":\"Denver\"}\n",
    "\n",
    "print(f\"The capitol of Wyoming is {states['Wyoming']}\")"
   ]
  },
  {
   "cell_type": "code",
   "execution_count": 2,
   "metadata": {
    "slideshow": {
     "slide_type": "slide"
    }
   },
   "outputs": [
    {
     "name": "stdout",
     "output_type": "stream",
     "text": [
      "{'Wyoming': 'Cheyenne', 'Colorado': 'Denver'}\n",
      "{'Wyoming': 'Cheyenne', 'Colorado': 'Denver', 'Montana': 'Helena'}\n"
     ]
    }
   ],
   "source": [
    "states = {\"Wyoming\":\"Cheyenne\",\"Colorado\":\"Denver\"}\n",
    "print(states)\n",
    "states[\"Montana\"] = \"Helena\"\n",
    "states[\"Colorado\"] = \"FOCO\"\n",
    "print(states)\n"
   ]
  },
  {
   "cell_type": "code",
   "execution_count": null,
   "metadata": {},
   "outputs": [],
   "source": [
    "mylist = [\"hi\",\"there\"]\n",
    "mylist[0] = \"new\"\n",
    "mylist.append()\n",
    "print(mylist[0])"
   ]
  },
  {
   "cell_type": "code",
   "execution_count": 3,
   "metadata": {
    "slideshow": {
     "slide_type": "slide"
    }
   },
   "outputs": [
    {
     "name": "stdout",
     "output_type": "stream",
     "text": [
      "{}\n",
      "{'United States': 'Washington D.C', 'Canada': 'Ottawa'}\n"
     ]
    }
   ],
   "source": [
    "countries = {}\n",
    "print(countries)\n",
    "countries[\"United States\"] = \"Washington D.C\"\n",
    "countries[\"Canada\"] = \"Ottawa\"\n",
    "print(countries)"
   ]
  },
  {
   "cell_type": "code",
   "execution_count": 1,
   "metadata": {
    "slideshow": {
     "slide_type": "slide"
    }
   },
   "outputs": [
    {
     "name": "stdout",
     "output_type": "stream",
     "text": [
      "{'Red': '#ff0000', 'Blue': '#0000ff', 'UW-Gold': '#492f24'}\n",
      "{'Red': '#ff0000', 'Blue': '#0000ff', 'UW-Gold': '#ffc425'}\n"
     ]
    }
   ],
   "source": [
    "colors = {\"Red\":\"#ff0000\",\"Blue\":\"#0000ff\",\"UW-Gold\":\"#492f24\"}\n",
    "print(colors)\n",
    "colors[\"UW-Gold\"] = \"#ffc425\"\n",
    "print(colors)"
   ]
  },
  {
   "cell_type": "code",
   "execution_count": 5,
   "metadata": {
    "slideshow": {
     "slide_type": "slide"
    }
   },
   "outputs": [
    {
     "name": "stdout",
     "output_type": "stream",
     "text": [
      "{'Red': '#ff0000', 'Blue': '#0000ff', 'UW-Gold': '#492f24'}\n",
      "{'Blue': '#0000ff', 'UW-Gold': '#492f24'}\n"
     ]
    }
   ],
   "source": [
    "colors = {\"Red\":\"#ff0000\",\"Blue\":\"#0000ff\",\"UW-Gold\":\"#492f24\"}\n",
    "print(colors) \n",
    "del colors[\"Red\"]\n",
    "print(colors)"
   ]
  },
  {
   "cell_type": "code",
   "execution_count": 2,
   "metadata": {
    "slideshow": {
     "slide_type": "slide"
    }
   },
   "outputs": [
    {
     "name": "stdout",
     "output_type": "stream",
     "text": [
      "University of Wyoming\n",
      "{'Name': 'University of Wyoming', 'City': 'Laramie', 'State': 'Wyoming', 'Founded': 1886, 'Students': 11100, 'Elevation': 7220}\n"
     ]
    }
   ],
   "source": [
    "university_of_wyoming = {\n",
    "    \"Name\": \"University of Wyoming\",\n",
    "    \"City\": \"Laramie\",\n",
    "    \"State\":\"Wyoming\",\n",
    "    \"Founded\":1886, \n",
    "    \"Students\":11_100\n",
    "}\n",
    "print(university_of_wyoming[\"Name\"])\n",
    "university_of_wyoming[\"Elevation\"] = 7220\n",
    "print(university_of_wyoming)"
   ]
  },
  {
   "cell_type": "code",
   "execution_count": 8,
   "metadata": {
    "slideshow": {
     "slide_type": "slide"
    }
   },
   "outputs": [
    {
     "ename": "KeyError",
     "evalue": "'Blue'",
     "output_type": "error",
     "traceback": [
      "\u001b[0;31m---------------------------------------------------------------------------\u001b[0m",
      "\u001b[0;31mKeyError\u001b[0m                                  Traceback (most recent call last)",
      "\u001b[0;32m/tmp/ipykernel_38630/3593499717.py\u001b[0m in \u001b[0;36m<module>\u001b[0;34m\u001b[0m\n\u001b[1;32m      1\u001b[0m \u001b[0mcolors\u001b[0m \u001b[0;34m=\u001b[0m \u001b[0;34m{\u001b[0m\u001b[0;34m}\u001b[0m\u001b[0;34m\u001b[0m\u001b[0;34m\u001b[0m\u001b[0m\n\u001b[0;32m----> 2\u001b[0;31m \u001b[0mprint\u001b[0m\u001b[0;34m(\u001b[0m\u001b[0mcolors\u001b[0m\u001b[0;34m[\u001b[0m\u001b[0;34m\"Blue\"\u001b[0m\u001b[0;34m]\u001b[0m\u001b[0;34m)\u001b[0m\u001b[0;34m\u001b[0m\u001b[0;34m\u001b[0m\u001b[0m\n\u001b[0m",
      "\u001b[0;31mKeyError\u001b[0m: 'Blue'"
     ]
    }
   ],
   "source": [
    "colors = {} \n",
    "print(colors[\"Blue\"])"
   ]
  },
  {
   "cell_type": "code",
   "execution_count": 3,
   "metadata": {
    "slideshow": {
     "slide_type": "slide"
    }
   },
   "outputs": [
    {
     "name": "stdout",
     "output_type": "stream",
     "text": [
      "blue\n"
     ]
    }
   ],
   "source": [
    "colors = {\"Blue\":\"blue\"} \n",
    "print(colors.get(\"Blue\",\"That key wasn't found\"))\n",
    "\n",
    "if colors.get(\"UW-Gold\", 9999) == 9999:\n",
    "    colors[\"UW-Gold\"] = \"#ffc425\"\n",
    "else:\n",
    "    print(colors[\"UW-Gold\"])"
   ]
  },
  {
   "cell_type": "code",
   "execution_count": 12,
   "metadata": {
    "slideshow": {
     "slide_type": "slide"
    }
   },
   "outputs": [
    {
     "name": "stdout",
     "output_type": "stream",
     "text": [
      "Key: Name\n",
      "Value: University of Wyoming\n",
      "\n",
      "Key: City\n",
      "Value: Laramie\n",
      "\n",
      "Key: State\n",
      "Value: Wyoming\n",
      "\n",
      "Key: Founded\n",
      "Value: 1886\n",
      "\n",
      "Key: Students\n",
      "Value: 11100\n",
      "\n"
     ]
    }
   ],
   "source": [
    "university_of_wyoming = {\n",
    "    \"Name\": \"University of Wyoming\",\n",
    "    \"City\": \"Laramie\",\n",
    "    \"State\":\"Wyoming\",\n",
    "    \"Founded\":1886, \n",
    "    \"Students\":11_100\n",
    "}\n",
    "\n",
    "for key, value in university_of_wyoming.items():\n",
    "    print(f\"Key: {key}\")\n",
    "    print(f\"Value: {value}\\n\")"
   ]
  },
  {
   "cell_type": "code",
   "execution_count": 3,
   "metadata": {
    "slideshow": {
     "slide_type": "slide"
    }
   },
   "outputs": [
    {
     "name": "stdout",
     "output_type": "stream",
     "text": [
      "The attributes available are: \n",
      "Name\n",
      "City\n",
      "State\n",
      "Founded\n",
      "Students\n"
     ]
    }
   ],
   "source": [
    "university_of_wyoming = {\n",
    "    \"Name\": \"University of Wyoming\",\n",
    "    \"City\": \"Laramie\",\n",
    "    \"State\":\"Wyoming\",\n",
    "    \"Founded\":1886, \n",
    "    \"Students\":11_100\n",
    "}\n",
    "\n",
    "print(\"The attributes available are: \")\n",
    "for key in university_of_wyoming.keys():\n",
    "    print(key)\n"
   ]
  },
  {
   "cell_type": "code",
   "execution_count": 4,
   "metadata": {
    "slideshow": {
     "slide_type": "slide"
    }
   },
   "outputs": [
    {
     "name": "stdout",
     "output_type": "stream",
     "text": [
      "University of Wyoming\n",
      "Laramie\n",
      "Wyoming\n",
      "1886\n",
      "11100\n"
     ]
    }
   ],
   "source": [
    "university_of_wyoming = {\n",
    "    \"Name\": \"University of Wyoming\",\n",
    "    \"City\": \"Laramie\",\n",
    "    \"State\":\"Wyoming\",\n",
    "    \"Founded\":1886, \n",
    "    \"Students\":11_100\n",
    "}\n",
    "\n",
    "for key in university_of_wyoming:\n",
    "    print(university_of_wyoming[key])"
   ]
  },
  {
   "cell_type": "code",
   "execution_count": 16,
   "metadata": {
    "slideshow": {
     "slide_type": "slide"
    }
   },
   "outputs": [
    {
     "name": "stdout",
     "output_type": "stream",
     "text": [
      "University of Wyoming\n",
      "Laramie\n",
      "Wyoming\n",
      "1886\n",
      "11100\n"
     ]
    }
   ],
   "source": [
    "university_of_wyoming = {\n",
    "    \"Name\": \"University of Wyoming\",\n",
    "    \"City\": \"Laramie\",\n",
    "    \"State\":\"Wyoming\",\n",
    "    \"Founded\":1886, \n",
    "    \"Students\":11_100\n",
    "}\n",
    "for key in university_of_wyoming:\n",
    "    print(university_of_wyoming[key])\n",
    "\n",
    "if \"Elevation\" in university_of_wyoming.keys():\n",
    "    print(f\"UW's Elevation is {university_of_wyoming['Elevation']}\")"
   ]
  },
  {
   "cell_type": "code",
   "execution_count": 17,
   "metadata": {
    "slideshow": {
     "slide_type": "slide"
    }
   },
   "outputs": [
    {
     "name": "stdout",
     "output_type": "stream",
     "text": [
      "City\n",
      "Founded\n",
      "Name\n",
      "State\n",
      "Students\n"
     ]
    }
   ],
   "source": [
    "university_of_wyoming = {\n",
    "    \"Name\": \"University of Wyoming\",\n",
    "    \"City\": \"Laramie\",\n",
    "    \"State\":\"Wyoming\",\n",
    "    \"Founded\":1886, \n",
    "    \"Students\":11_100\n",
    "}\n",
    "\n",
    "for key in sorted(university_of_wyoming.keys()):\n",
    "    print(key)"
   ]
  },
  {
   "cell_type": "code",
   "execution_count": 18,
   "metadata": {
    "slideshow": {
     "slide_type": "slide"
    }
   },
   "outputs": [
    {
     "name": "stdout",
     "output_type": "stream",
     "text": [
      "University of Wyoming\n",
      "Laramie\n",
      "Wyoming\n",
      "1886\n",
      "11100\n"
     ]
    }
   ],
   "source": [
    "university_of_wyoming = {\n",
    "    \"Name\": \"University of Wyoming\",\n",
    "    \"City\": \"Laramie\",\n",
    "    \"State\":\"Wyoming\",\n",
    "    \"Founded\":1886, \n",
    "    \"Students\":11_100\n",
    "}\n",
    "\n",
    "for value in university_of_wyoming.values():\n",
    "    print(value)"
   ]
  },
  {
   "cell_type": "code",
   "execution_count": 19,
   "metadata": {
    "slideshow": {
     "slide_type": "slide"
    }
   },
   "outputs": [
    {
     "name": "stdout",
     "output_type": "stream",
     "text": [
      "JavaScript\n",
      "C#\n",
      "Java\n",
      "Ruby\n",
      "Python\n",
      "C++\n"
     ]
    }
   ],
   "source": [
    "programming_languages = {\n",
    "    \"Alice\": \"Python\",\n",
    "    \"Bob\": \"JavaScript\",\n",
    "    \"Charlie\": \"Java\",\n",
    "    \"David\": \"C++\",\n",
    "    \"Eve\": \"Python\",\n",
    "    \"Frank\": \"Ruby\",\n",
    "    \"Grace\": \"JavaScript\",\n",
    "    \"Hank\": \"Python\",\n",
    "    \"Ivy\": \"Java\",\n",
    "    \"Jack\": \"C#\"\n",
    "}\n",
    "\n",
    "for language in set(programming_languages.values()):\n",
    "    print(language)"
   ]
  },
  {
   "cell_type": "code",
   "execution_count": 5,
   "metadata": {
    "slideshow": {
     "slide_type": "slide"
    }
   },
   "outputs": [
    {
     "ename": "TypeError",
     "evalue": "'tuple' object does not support item assignment",
     "output_type": "error",
     "traceback": [
      "\u001b[0;31m---------------------------------------------------------------------------\u001b[0m",
      "\u001b[0;31mTypeError\u001b[0m                                 Traceback (most recent call last)",
      "Cell \u001b[0;32mIn[5], line 4\u001b[0m\n\u001b[1;32m      2\u001b[0m lang_list[\u001b[38;5;241m0\u001b[39m] \u001b[38;5;241m=\u001b[39m \u001b[38;5;124m\"\u001b[39m\u001b[38;5;124mC++\u001b[39m\u001b[38;5;124m\"\u001b[39m\n\u001b[1;32m      3\u001b[0m lang_tupl \u001b[38;5;241m=\u001b[39m (\u001b[38;5;124m'\u001b[39m\u001b[38;5;124mPython\u001b[39m\u001b[38;5;124m'\u001b[39m,\u001b[38;5;124m'\u001b[39m\u001b[38;5;124mJulia\u001b[39m\u001b[38;5;124m'\u001b[39m,\u001b[38;5;124m'\u001b[39m\u001b[38;5;124mGo\u001b[39m\u001b[38;5;124m'\u001b[39m) \u001b[38;5;66;03m#this is a tuple \u001b[39;00m\n\u001b[0;32m----> 4\u001b[0m \u001b[43mlang_tupl\u001b[49m\u001b[43m[\u001b[49m\u001b[38;5;241;43m0\u001b[39;49m\u001b[43m]\u001b[49m \u001b[38;5;241m=\u001b[39m \u001b[38;5;124m\"\u001b[39m\u001b[38;5;124mC++\u001b[39m\u001b[38;5;124m\"\u001b[39m\n\u001b[1;32m      5\u001b[0m lang_set  \u001b[38;5;241m=\u001b[39m {\u001b[38;5;124m'\u001b[39m\u001b[38;5;124mPython\u001b[39m\u001b[38;5;124m'\u001b[39m,\u001b[38;5;124m'\u001b[39m\u001b[38;5;124mJulia\u001b[39m\u001b[38;5;124m'\u001b[39m,\u001b[38;5;124m'\u001b[39m\u001b[38;5;124mGo\u001b[39m\u001b[38;5;124m'\u001b[39m} \u001b[38;5;66;03m#this is a set\u001b[39;00m\n",
      "\u001b[0;31mTypeError\u001b[0m: 'tuple' object does not support item assignment"
     ]
    }
   ],
   "source": [
    "lang_list = ['Python','Julia','Go'] #this is a list \n",
    "lang_list[0] = \"C++\"\n",
    "lang_tupl = ('Python','Julia','Go') #this is a tuple \n",
    "lang_tupl[0] = \"C++\"\n",
    "lang_set  = {'Python','Julia','Go'} #this is a set"
   ]
  },
  {
   "cell_type": "code",
   "execution_count": 21,
   "metadata": {
    "slideshow": {
     "slide_type": "slide"
    }
   },
   "outputs": [
    {
     "name": "stdout",
     "output_type": "stream",
     "text": [
      "{'Name': 'University of Wyoming', 'City': 'Laramie', 'State': 'Wyoming', 'Founded': 1886, 'Students': 11100}\n",
      "{'Name': 'Colorado State University', 'City': 'Fort Collins', 'State': 'Colorado', 'Founded': 1870, 'Students': 33877}\n",
      "{'Name': 'Montana State University', 'City': 'Bozeman', 'State': 'Montana', 'Founded': 1893, 'Students': 16902}\n"
     ]
    }
   ],
   "source": [
    "university_of_wyoming = {\n",
    "    \"Name\": \"University of Wyoming\",\n",
    "    \"City\": \"Laramie\",\n",
    "    \"State\":\"Wyoming\",\n",
    "    \"Founded\":1886, \n",
    "    \"Students\":11_100\n",
    "}\n",
    "colorado_state_university = {\n",
    "    \"Name\": \"Colorado State University\",\n",
    "    \"City\": \"Fort Collins\",\n",
    "    \"State\": \"Colorado\",\n",
    "    \"Founded\": 1870,\n",
    "    \"Students\": 33_877\n",
    "}\n",
    "\n",
    "montana_state_university = {\n",
    "    \"Name\": \"Montana State University\",\n",
    "    \"City\": \"Bozeman\",\n",
    "    \"State\": \"Montana\",\n",
    "    \"Founded\": 1893,\n",
    "    \"Students\": 16_902\n",
    "}\n",
    "\n",
    "universities = [university_of_wyoming, colorado_state_university, montana_state_university]\n",
    "\n",
    "for university in universities:\n",
    "    print(university)\n"
   ]
  },
  {
   "cell_type": "code",
   "execution_count": 23,
   "metadata": {
    "slideshow": {
     "slide_type": "slide"
    }
   },
   "outputs": [
    {
     "name": "stdout",
     "output_type": "stream",
     "text": [
      "{'name': 'Pistol Pete', 'email': 'pete@uwyo.edu', 'w#': 'W18860307'}\n",
      "{'name': 'Pistol Pete', 'email': 'pete@uwyo.edu', 'w#': 'W18860307'}\n",
      "{'name': 'Pistol Pete', 'email': 'pete@uwyo.edu', 'w#': 'W18860307'}\n",
      "{'name': 'Pistol Pete', 'email': 'pete@uwyo.edu', 'w#': 'W18860307'}\n",
      "{'name': 'Pistol Pete', 'email': 'pete@uwyo.edu', 'w#': 'W18860307'}\n"
     ]
    }
   ],
   "source": [
    "students = [] #decalre our empty list \n",
    "\n",
    "for student in range(30): #loop through 30 times\n",
    "    new_student = {'name':\"Pistol Pete\",\"email\":\"pete@uwyo.edu\",\"w#\":\"W18860307\"} # declare the default values\n",
    "    students.append(new_student)# add our new student\n",
    "\n",
    "for student in students[:5]: #go through the first 5 students\n",
    "    print(student) #print"
   ]
  },
  {
   "cell_type": "code",
   "execution_count": 27,
   "metadata": {
    "slideshow": {
     "slide_type": "slide"
    }
   },
   "outputs": [
    {
     "name": "stdout",
     "output_type": "stream",
     "text": [
      "{'name': 'Cowboy Joe', 'email': 'cj@uwyo.edu', 'w#': 'W03071886'}\n",
      "{'name': 'Cowboy Joe', 'email': 'cj@uwyo.edu', 'w#': 'W03071886'}\n",
      "{'name': 'Cowboy Joe', 'email': 'cj@uwyo.edu', 'w#': 'W03071886'}\n",
      "{'name': 'Pistol Pete', 'email': 'pete@uwyo.edu', 'w#': 'W18860307'}\n",
      "{'name': 'Pistol Pete', 'email': 'pete@uwyo.edu', 'w#': 'W18860307'}\n"
     ]
    }
   ],
   "source": [
    "students = [] #decalre our empty list \n",
    "\n",
    "for student in range(30): #loop through 30 times\n",
    "    new_student = {'name':\"Pistol Pete\",\"email\":\"pete@uwyo.edu\",\"w#\":\"W18860307\"} # declare the default values\n",
    "    students.append(new_student)# add our new student\n",
    "\n",
    "for student in students[:3]:\n",
    "    student[\"name\"] = \"Cowboy Joe\"\n",
    "    student[\"email\"] = \"cj@uwyo.edu\"\n",
    "    student[\"w#\"] = \"W03071886\"\n",
    "\n",
    "for student in students[:5]:\n",
    "    print(student)"
   ]
  },
  {
   "cell_type": "code",
   "execution_count": 28,
   "metadata": {
    "slideshow": {
     "slide_type": "slide"
    }
   },
   "outputs": [
    {
     "name": "stdout",
     "output_type": "stream",
     "text": [
      "{'Name': 'University of Wyoming', 'City': 'Laramie', 'State': 'Wyoming', 'Founded': 1886, 'Students': 11100, 'Colleges': ['Agriculture', 'Arts and Sciences', 'Business', 'Education', 'Engineering and Physical Science']}\n"
     ]
    }
   ],
   "source": [
    "university_of_wyoming = {\n",
    "    \"Name\": \"University of Wyoming\",\n",
    "    \"City\": \"Laramie\",\n",
    "    \"State\":\"Wyoming\",\n",
    "    \"Founded\":1886, \n",
    "    \"Students\":11_100,\n",
    "    \"Colleges\": [\"Agriculture\",\"Arts and Sciences\",\"Business\",\"Education\",\"Engineering and Physical Science\"]\n",
    "}\n",
    "\n",
    "print(university_of_wyoming)"
   ]
  },
  {
   "cell_type": "code",
   "execution_count": 48,
   "metadata": {
    "slideshow": {
     "slide_type": "slide"
    }
   },
   "outputs": [
    {
     "name": "stdout",
     "output_type": "stream",
     "text": [
      "Name:    \tUniversity of Wyoming\n",
      "City:    \tLaramie\n",
      "State:    \tWyoming\n",
      "Founded:    \t1886\n",
      "Students:    \t11100\n",
      "Colleges:\n",
      "\t\tAgriculture\n",
      "\t\tArts and Sciences\n",
      "\t\tBusiness\n",
      "\t\tEducation\n",
      "\t\tEngineering and Physical Science\n"
     ]
    }
   ],
   "source": [
    "university_of_wyoming = {\n",
    "    \"Name\": \"University of Wyoming\",\n",
    "    \"City\": \"Laramie\",\n",
    "    \"State\":\"Wyoming\",\n",
    "    \"Founded\":1886, \n",
    "    \"Students\":11_100,\n",
    "    \"Colleges\": [\"Agriculture\",\"Arts and Sciences\",\"Business\",\"Education\",\"Engineering and Physical Science\"]\n",
    "}\n",
    "\n",
    "for key in university_of_wyoming:\n",
    "    if type(university_of_wyoming[key]) is list:\n",
    "        print(f\"{key}:\")\n",
    "        for elem in university_of_wyoming[key]:\n",
    "            print(f\"\\t\\t{elem}\")\n",
    "    else:\n",
    "        print(f\"{key}:    \\t{university_of_wyoming[key]}\")"
   ]
  },
  {
   "cell_type": "code",
   "execution_count": 51,
   "metadata": {
    "slideshow": {
     "slide_type": "slide"
    }
   },
   "outputs": [
    {
     "name": "stdout",
     "output_type": "stream",
     "text": [
      "username: cowboyjoe\n",
      "Name: Cowboy Joe\n",
      "\n",
      "username: pistolpete\n",
      "Name: Pistol Pete\n",
      "\n"
     ]
    }
   ],
   "source": [
    "users = {\n",
    "    \"cowboyjoe\": {\n",
    "        'first': \"cowboy\",\n",
    "        'last' : 'joe'\n",
    "    },\n",
    "    \"pistolpete\":{\n",
    "        'first': 'pistol',\n",
    "        'last': 'pete'\n",
    "    }\n",
    "}\n",
    "\n",
    "for username, user_info in users.items():\n",
    "    print(f\"username: {username}\")\n",
    "    full_name = f\"{user_info['first']} {user_info['last']}\"\n",
    "    print(f\"Name: {full_name.title()}\\n\")"
   ]
  },
  {
   "cell_type": "code",
   "execution_count": 8,
   "metadata": {},
   "outputs": [
    {
     "name": "stdout",
     "output_type": "stream",
     "text": [
      "cowboy\n"
     ]
    }
   ],
   "source": [
    "users = {\n",
    "    \"cowboyjoe\": {\n",
    "        'first': \"cowboy\",\n",
    "        'last': 'joe'\n",
    "    },\n",
    "    \"pistolpete\": {\n",
    "        'first': 'pistol',\n",
    "        'last': 'pete'\n",
    "    }\n",
    "}\n",
    "sub_dict = users['cowboyjoe']\n",
    "\n",
    "print(users['cowboyjoe']['first'])"
   ]
  },
  {
   "cell_type": "code",
   "execution_count": 52,
   "metadata": {
    "slideshow": {
     "slide_type": "slide"
    }
   },
   "outputs": [
    {
     "name": "stdout",
     "output_type": "stream",
     "text": [
      "username: cowboyjoe\n",
      "first: cowboy\n",
      "last: joe\n",
      "\n",
      "username: pistolpete\n",
      "first: pistol\n",
      "last: pete\n",
      "\n"
     ]
    }
   ],
   "source": [
    "users = {\n",
    "    \"cowboyjoe\": {\n",
    "        'first': \"cowboy\",\n",
    "        'last' : 'joe'\n",
    "    },\n",
    "    \"pistolpete\":{\n",
    "        'first': 'pistol',\n",
    "        'last': 'pete'\n",
    "    }\n",
    "}\n",
    "\n",
    "for username, user_info in users.items():\n",
    "    print(f\"username: {username}\")\n",
    "    for key, value in user_info.items():\n",
    "        print(f\"{key}: {value}\")\n",
    "    print()"
   ]
  }
 ],
 "metadata": {
  "celltoolbar": "Slideshow",
  "kernelspec": {
   "display_name": "Python 3 (ipykernel)",
   "language": "python",
   "name": "python3"
  },
  "language_info": {
   "codemirror_mode": {
    "name": "ipython",
    "version": 3
   },
   "file_extension": ".py",
   "mimetype": "text/x-python",
   "name": "python",
   "nbconvert_exporter": "python",
   "pygments_lexer": "ipython3",
   "version": "3.8.10"
  }
 },
 "nbformat": 4,
 "nbformat_minor": 2
}
