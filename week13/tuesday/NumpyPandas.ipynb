{
 "cells": [
  {
   "cell_type": "markdown",
   "metadata": {},
   "source": [
    "# <p style=\"text-align: Center;\">NumPy and Pandas</p>\n",
    "## <p style=\"text-align: Center;\">University of Wyoming COSC 1010</p>\n",
    "### <p style=\"text-align: Center;\">Adapted from: *Data Visualization with Python and JavaScript* By Kyran Dale </p>"
   ]
  },
  {
   "cell_type": "markdown",
   "metadata": {},
   "source": [
    "## <p style=\"text-align: Center;\">Introduction to NumPy</p>"
   ]
  },
  {
   "cell_type": "code",
   "execution_count": 34,
   "metadata": {},
   "outputs": [
    {
     "name": "stdout",
     "output_type": "stream",
     "text": [
      "[2 4 6]\n"
     ]
    }
   ],
   "source": [
    "import numpy as np \n",
    "\n",
    "a = np.array([1,2,3])\n",
    "\n",
    "print(a+a)"
   ]
  },
  {
   "cell_type": "code",
   "execution_count": 2,
   "metadata": {},
   "outputs": [
    {
     "name": "stdout",
     "output_type": "stream",
     "text": [
      "[1 2 3 4 5 6 7 8]\n",
      "Dimensions: 1\n",
      "shape: (8,)\n",
      "dtype: int64\n"
     ]
    }
   ],
   "source": [
    "def print_array_details(a):\n",
    "    print(f\"Dimensions: {a.ndim}\\nshape: {a.shape}\\ndtype: {a.dtype}\")\n",
    "\n",
    "a = np.array([1,2,3,4,5,6,7,8])\n",
    "print(a)\n",
    "print_array_details(a)"
   ]
  },
  {
   "cell_type": "code",
   "execution_count": 3,
   "metadata": {},
   "outputs": [
    {
     "name": "stdout",
     "output_type": "stream",
     "text": [
      "[[1 2 3 4]\n",
      " [5 6 7 8]]\n"
     ]
    }
   ],
   "source": [
    "#first a 2d array from our 1d array \n",
    "a2 = a.reshape([2,4])\n",
    "print(a2)"
   ]
  },
  {
   "cell_type": "code",
   "execution_count": 4,
   "metadata": {},
   "outputs": [
    {
     "name": "stdout",
     "output_type": "stream",
     "text": [
      "[[[1 2]\n",
      "  [3 4]]\n",
      "\n",
      " [[5 6]\n",
      "  [7 8]]]\n"
     ]
    }
   ],
   "source": [
    "#Then a 3d array from our 1d array \n",
    "a3 = a.reshape([2,2,2])\n",
    "print(a3)"
   ]
  },
  {
   "cell_type": "code",
   "execution_count": 8,
   "metadata": {},
   "outputs": [
    {
     "name": "stdout",
     "output_type": "stream",
     "text": [
      "[[0. 0. 0.]\n",
      " [0. 0. 0.]]\n",
      "\n",
      "[[1. 1. 1.]\n",
      " [1. 1. 1.]\n",
      " [1. 1. 1.]]\n",
      "\n",
      "[[4.68677518e-310 0.00000000e+000]\n",
      " [4.68616830e-310 4.68616830e-310]]\n"
     ]
    }
   ],
   "source": [
    "print(np.zeros([2,3]))\n",
    "print()\n",
    "print(np.ones([3,3]))\n",
    "print()\n",
    "print(np.empty([2,2]))"
   ]
  },
  {
   "cell_type": "code",
   "execution_count": 11,
   "metadata": {},
   "outputs": [
    {
     "name": "stdout",
     "output_type": "stream",
     "text": [
      "[[0.36800437 0.12884575]\n",
      " [0.40857825 0.43752508]]\n",
      "[ 2.  4.  6.  8. 10.]\n",
      "[2 4 6 8]\n"
     ]
    }
   ],
   "source": [
    "print(np.random.random((2,2)))\n",
    "print(np.linspace(2,10,5)) # five numbers range 2-10\n",
    "print(np.arange(2,10,2)) # 2 being the step size"
   ]
  },
  {
   "cell_type": "code",
   "execution_count": 14,
   "metadata": {},
   "outputs": [
    {
     "name": "stdout",
     "output_type": "stream",
     "text": [
      "3\n",
      "[4 5]\n",
      "[1 3]\n",
      "[8 7 6 5 4 3 2 1]\n"
     ]
    }
   ],
   "source": [
    "print(a[2])\n",
    "print(a[3:5]) # a slice \n",
    "print(a[:4:2]) # slice of 0:4 every second item \n",
    "print(a[::-1]) #reversed "
   ]
  },
  {
   "cell_type": "code",
   "execution_count": 17,
   "metadata": {},
   "outputs": [
    {
     "name": "stdout",
     "output_type": "stream",
     "text": [
      "[[[ 0  1  2  3]\n",
      "  [ 4  5  6  7]]\n",
      "\n",
      " [[ 8  9 10 11]\n",
      "  [12 13 14 15]]]\n",
      "14\n"
     ]
    }
   ],
   "source": [
    "ax = np.arange(16,dtype='int32')\n",
    "ax = ax.reshape([2,2,4])\n",
    "print(ax)\n",
    "print(ax[1,1,2])"
   ]
  },
  {
   "cell_type": "code",
   "execution_count": 20,
   "metadata": {},
   "outputs": [
    {
     "name": "stdout",
     "output_type": "stream",
     "text": [
      "[1 2 3 4 5 6 7 8]\n",
      "[ 2  4  6  8 10 12 14 16]\n",
      "[-1  0  1  2  3  4  5  6]\n",
      "[0.5 1.  1.5 2.  2.5 3.  3.5 4. ]\n",
      "[ True  True  True False False False False False]\n"
     ]
    }
   ],
   "source": [
    "print(a)\n",
    "print(a*2)#multiply all elements by 2\n",
    "print(a-2)#subtract 2 from all elements\n",
    "print(a/2)#divide all numbers\n",
    "print(a < 4)#check if all numbers are <4"
   ]
  },
  {
   "cell_type": "markdown",
   "metadata": {},
   "source": [
    "## The `DataFrame`\n",
    "---\n",
    "* The first step in a Pandas session is to load some data\n",
    "* There are various ways to do so, and data can be loaded from multiple sources \n",
    "* For now we wills tart with some JSON data\n",
    "* You can utilize Pandas' `read_json()` method to get a data frame based on the JSON \n",
    "* By convention `DataFrame` objects' name starts with `df`"
   ]
  },
  {
   "cell_type": "code",
   "execution_count": 5,
   "metadata": {},
   "outputs": [],
   "source": [
    "import pandas as pd \n",
    "df = pd.read_json('151pokemon.json')"
   ]
  },
  {
   "cell_type": "markdown",
   "metadata": {},
   "source": [
    "## The `DataFrame`\n",
    "---\n",
    "* With the `df` in hand we cans ee and work with the contents\n",
    "* A quick way to get the row-column structure of a `DF` is to use the `head` method \n",
    "* The head method shows the first five elements "
   ]
  },
  {
   "cell_type": "code",
   "execution_count": 6,
   "metadata": {},
   "outputs": [
    {
     "data": {
      "text/plain": [
       "<bound method NDFrame.head of      number        name                                       types  \\\n",
       "0         1   Bulbasaur   [{'type1': 'Grass'}, {'type2': 'Poison'}]   \n",
       "1         2     Ivysaur   [{'type1': 'Grass'}, {'type2': 'Poison'}]   \n",
       "2         3    Venusaur   [{'type1': 'Grass'}, {'type2': 'Poison'}]   \n",
       "3         4  Charmander      [{'type1': 'Fire'}, {'type2': 'none'}]   \n",
       "4         5  Charmeleon      [{'type1': 'Fire'}, {'type2': 'none'}]   \n",
       "..      ...         ...                                         ...   \n",
       "146     147     Dratini    [{'type1': 'Dragon'}, {'type2': 'none'}]   \n",
       "147     148   Dragonair    [{'type1': 'Dragon'}, {'type2': 'none'}]   \n",
       "148     149   Dragonite  [{'type1': 'Dragon'}, {'type2': 'Flying'}]   \n",
       "149     150      Mewtwo   [{'type1': 'Psychic'}, {'type2': 'none'}]   \n",
       "150     151         Mew   [{'type1': 'Psychic'}, {'type2': 'none'}]   \n",
       "\n",
       "                                                 stats  \n",
       "0    [{'total': '318'}, {'hp': '45'}, {'attack': '4...  \n",
       "1    [{'total': '405'}, {'hp': '60'}, {'attack': '6...  \n",
       "2    [{'total': '525'}, {'hp': '80'}, {'attack': '8...  \n",
       "3    [{'total': '309'}, {'hp': '39'}, {'attack': '5...  \n",
       "4    [{'total': '405'}, {'hp': '58'}, {'attack': '6...  \n",
       "..                                                 ...  \n",
       "146  [{'total': '300'}, {'hp': '41'}, {'attack': '6...  \n",
       "147  [{'total': '420'}, {'hp': '61'}, {'attack': '8...  \n",
       "148  [{'total': '600'}, {'hp': '91'}, {'attack': '1...  \n",
       "149  [{'total': '680'}, {'hp': '106'}, {'attack': '...  \n",
       "150  [{'total': '600'}, {'hp': '100'}, {'attack': '...  \n",
       "\n",
       "[151 rows x 4 columns]>"
      ]
     },
     "execution_count": 6,
     "metadata": {},
     "output_type": "execute_result"
    }
   ],
   "source": [
    "df.head"
   ]
  },
  {
   "cell_type": "code",
   "execution_count": 9,
   "metadata": {},
   "outputs": [
    {
     "data": {
      "text/plain": [
       "Index(['number', 'name', 'types', 'stats'], dtype='object')"
      ]
     },
     "execution_count": 9,
     "metadata": {},
     "output_type": "execute_result"
    }
   ],
   "source": [
    "df.columns"
   ]
  },
  {
   "cell_type": "code",
   "execution_count": 10,
   "metadata": {},
   "outputs": [
    {
     "data": {
      "text/plain": [
       "RangeIndex(start=0, stop=151, step=1)"
      ]
     },
     "execution_count": 10,
     "metadata": {},
     "output_type": "execute_result"
    }
   ],
   "source": [
    "df.index"
   ]
  },
  {
   "cell_type": "code",
   "execution_count": 20,
   "metadata": {},
   "outputs": [
    {
     "data": {
      "text/plain": [
       "number                                                    6\n",
       "types              [{'type1': 'Fire'}, {'type2': 'Flying'}]\n",
       "stats     [{'total': '534'}, {'hp': '78'}, {'attack': '8...\n",
       "Name: Charizard, dtype: object"
      ]
     },
     "execution_count": 20,
     "metadata": {},
     "output_type": "execute_result"
    }
   ],
   "source": [
    "dfx = df.set_index('name')\n",
    "dfx.loc[\"Charizard\"]"
   ]
  },
  {
   "cell_type": "code",
   "execution_count": 22,
   "metadata": {},
   "outputs": [
    {
     "data": {
      "text/plain": [
       "number                                                    6\n",
       "name                                              Charizard\n",
       "types              [{'type1': 'Fire'}, {'type2': 'Flying'}]\n",
       "stats     [{'total': '534'}, {'hp': '78'}, {'attack': '8...\n",
       "Name: 5, dtype: object"
      ]
     },
     "execution_count": 22,
     "metadata": {},
     "output_type": "execute_result"
    }
   ],
   "source": [
    "df.iloc[5]"
   ]
  },
  {
   "cell_type": "code",
   "execution_count": 24,
   "metadata": {},
   "outputs": [
    {
     "data": {
      "text/plain": [
       "pandas.core.series.Series"
      ]
     },
     "execution_count": 24,
     "metadata": {},
     "output_type": "execute_result"
    }
   ],
   "source": [
    "name_col = df.name \n",
    "type(name_col)"
   ]
  },
  {
   "cell_type": "code",
   "execution_count": 25,
   "metadata": {},
   "outputs": [
    {
     "data": {
      "text/plain": [
       "0       Bulbasaur\n",
       "1         Ivysaur\n",
       "2        Venusaur\n",
       "3      Charmander\n",
       "4      Charmeleon\n",
       "          ...    \n",
       "146       Dratini\n",
       "147     Dragonair\n",
       "148     Dragonite\n",
       "149        Mewtwo\n",
       "150           Mew\n",
       "Name: name, Length: 151, dtype: object"
      ]
     },
     "execution_count": 25,
     "metadata": {},
     "output_type": "execute_result"
    }
   ],
   "source": [
    "name_col"
   ]
  },
  {
   "cell_type": "code",
   "execution_count": 26,
   "metadata": {},
   "outputs": [
    {
     "data": {
      "text/html": [
       "<div>\n",
       "<style scoped>\n",
       "    .dataframe tbody tr th:only-of-type {\n",
       "        vertical-align: middle;\n",
       "    }\n",
       "\n",
       "    .dataframe tbody tr th {\n",
       "        vertical-align: top;\n",
       "    }\n",
       "\n",
       "    .dataframe thead th {\n",
       "        text-align: right;\n",
       "    }\n",
       "</style>\n",
       "<table border=\"1\" class=\"dataframe\">\n",
       "  <thead>\n",
       "    <tr style=\"text-align: right;\">\n",
       "      <th></th>\n",
       "      <th>name</th>\n",
       "      <th>category</th>\n",
       "    </tr>\n",
       "  </thead>\n",
       "  <tbody>\n",
       "    <tr>\n",
       "      <th>0</th>\n",
       "      <td>Albert Einstein</td>\n",
       "      <td>Physics</td>\n",
       "    </tr>\n",
       "    <tr>\n",
       "      <th>1</th>\n",
       "      <td>Marie Curie</td>\n",
       "      <td>Chemistry</td>\n",
       "    </tr>\n",
       "    <tr>\n",
       "      <th>2</th>\n",
       "      <td>William Faulkner</td>\n",
       "      <td>Literature</td>\n",
       "    </tr>\n",
       "  </tbody>\n",
       "</table>\n",
       "</div>"
      ],
      "text/plain": [
       "               name    category\n",
       "0   Albert Einstein     Physics\n",
       "1       Marie Curie   Chemistry\n",
       "2  William Faulkner  Literature"
      ]
     },
     "execution_count": 26,
     "metadata": {},
     "output_type": "execute_result"
    }
   ],
   "source": [
    "dfn = pd.DataFrame.from_dict([\n",
    "{'name': 'Albert Einstein', 'category':'Physics'},\n",
    "{'name': 'Marie Curie', 'category':'Chemistry'},\n",
    "{'name': 'William Faulkner', 'category':'Literature'}\n",
    "])\n",
    "\n",
    "dfn"
   ]
  },
  {
   "cell_type": "code",
   "execution_count": 27,
   "metadata": {},
   "outputs": [
    {
     "data": {
      "text/plain": [
       "0    1\n",
       "1    2\n",
       "2    3\n",
       "3    4\n",
       "dtype: int64"
      ]
     },
     "execution_count": 27,
     "metadata": {},
     "output_type": "execute_result"
    }
   ],
   "source": [
    "s = pd.Series([1,2,3,4]) #automatically assigns int indices \n",
    "s"
   ]
  },
  {
   "cell_type": "code",
   "execution_count": 28,
   "metadata": {},
   "outputs": [
    {
     "data": {
      "text/plain": [
       "a    1\n",
       "b    2\n",
       "c    3\n",
       "d    4\n",
       "dtype: int64"
      ]
     },
     "execution_count": 28,
     "metadata": {},
     "output_type": "execute_result"
    }
   ],
   "source": [
    "# Alternatively can specify indices \n",
    "s = pd.Series([1,2,3,4],index=['a','b','c','d'])\n",
    "s"
   ]
  },
  {
   "cell_type": "code",
   "execution_count": 29,
   "metadata": {},
   "outputs": [
    {
     "data": {
      "text/plain": [
       "a    1\n",
       "b    2\n",
       "c    3\n",
       "dtype: int64"
      ]
     },
     "execution_count": 29,
     "metadata": {},
     "output_type": "execute_result"
    }
   ],
   "source": [
    "# A dict can be used to specify data and indices \n",
    "\n",
    "s = pd.Series({'a':1,'b':2,'c':3})\n",
    "s"
   ]
  },
  {
   "cell_type": "code",
   "execution_count": 30,
   "metadata": {},
   "outputs": [
    {
     "data": {
      "text/plain": [
       "b    9\n",
       "c    9\n",
       "a    9\n",
       "dtype: int64"
      ]
     },
     "execution_count": 30,
     "metadata": {},
     "output_type": "execute_result"
    }
   ],
   "source": [
    "# Finally a scalar can be passed with indices \n",
    "pd.Series(9,{'a','b','c'})"
   ]
  }
 ],
 "metadata": {
  "kernelspec": {
   "display_name": "Python 3",
   "language": "python",
   "name": "python3"
  },
  "language_info": {
   "codemirror_mode": {
    "name": "ipython",
    "version": 3
   },
   "file_extension": ".py",
   "mimetype": "text/x-python",
   "name": "python",
   "nbconvert_exporter": "python",
   "pygments_lexer": "ipython3",
   "version": "3.10.12"
  }
 },
 "nbformat": 4,
 "nbformat_minor": 2
}
