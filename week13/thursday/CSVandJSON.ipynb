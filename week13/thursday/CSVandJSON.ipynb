{
 "cells": [
  {
   "cell_type": "markdown",
   "metadata": {
    "slideshow": {
     "slide_type": "slide"
    }
   },
   "source": [
    "# <p style=\"text-align: Center;\">Working with CSV and JSON</p>\n",
    "## <p style=\"text-align: Center;\">University of Wyoming COSC 1010</p>\n",
    "### <p style=\"text-align: Center;\">Adapted from: *Automate the Boring Stuff with Python* By Al Sweigart </p>"
   ]
  },
  {
   "cell_type": "markdown",
   "metadata": {
    "slideshow": {
     "slide_type": "slide"
    }
   },
   "source": [
    "## Reader Objects\n",
    "--- \n",
    "* To read data from a CSV file with the `csv` module a `Reader` object is needed\n",
    "* A `Reader` object allows you to iterate over the lines in a CSV file\n",
    "* The `csv` module comes with Python, so it doesn't need to be installed through pip \n",
    "* To work with a CSV file the `csv` module needs to be imported "
   ]
  },
  {
   "cell_type": "markdown",
   "metadata": {
    "slideshow": {
     "slide_type": "slide"
    }
   },
   "source": [
    "## Reader Objects\n",
    "--- \n",
    "* To read a CSV file first it needs to be opened with `open()`\n",
    "* Then the file object `open()` returns will be passed to `csv.reader()`\n",
    "* `csv.reader()` will return a  `Reader` object for you to utilize "
   ]
  },
  {
   "cell_type": "code",
   "execution_count": 1,
   "metadata": {
    "slideshow": {
     "slide_type": "slide"
    }
   },
   "outputs": [
    {
     "name": "stdout",
     "output_type": "stream",
     "text": [
      "['4/5/2014 13:34', 'Apples', '73']\n",
      "['4/5/2014 3:41', 'Cherries', '85']\n",
      "['4/6/2014 12:46', 'Pears', '14']\n",
      "['4/8/2014 8:59', 'Oranges', '52']\n",
      "['4/10/2014 2:07', 'Apples', '152']\n",
      "['4/10/2014 18:10', 'Bananas', '23']\n",
      "['4/10/2014 2:40', 'Strawberries', '98']\n"
     ]
    }
   ],
   "source": [
    "import csv \n",
    "\n",
    "exampleCSV = open(\"example.csv\")\n",
    "exampleReader = csv.reader(exampleCSV)\n",
    "exampleData = list(exampleReader)\n",
    "for row in exampleData:\n",
    "    print(row)"
   ]
  },
  {
   "cell_type": "code",
   "execution_count": 2,
   "metadata": {
    "slideshow": {
     "slide_type": "slide"
    }
   },
   "outputs": [
    {
     "name": "stdout",
     "output_type": "stream",
     "text": [
      "4/5/2014 13:34\n",
      "Apples\n",
      "73\n"
     ]
    }
   ],
   "source": [
    "print(exampleData[0][0])\n",
    "print(exampleData[0][1])\n",
    "print(exampleData[0][2])"
   ]
  },
  {
   "cell_type": "code",
   "execution_count": 4,
   "metadata": {
    "slideshow": {
     "slide_type": "slide"
    }
   },
   "outputs": [
    {
     "name": "stdout",
     "output_type": "stream",
     "text": [
      "Cherries\n",
      "Strawberries\n"
     ]
    }
   ],
   "source": [
    "print(exampleData[1][1])\n",
    "print(exampleData[6][1])"
   ]
  },
  {
   "cell_type": "code",
   "execution_count": 3,
   "metadata": {
    "slideshow": {
     "slide_type": "slide"
    }
   },
   "outputs": [
    {
     "name": "stdout",
     "output_type": "stream",
     "text": [
      "Row #1 ['4/5/2014 13:34', 'Apples', '73']\n",
      "Row #2 ['4/5/2014 3:41', 'Cherries', '85']\n",
      "Row #3 ['4/6/2014 12:46', 'Pears', '14']\n",
      "Row #4 ['4/8/2014 8:59', 'Oranges', '52']\n",
      "Row #5 ['4/10/2014 2:07', 'Apples', '152']\n",
      "Row #6 ['4/10/2014 18:10', 'Bananas', '23']\n",
      "Row #7 ['4/10/2014 2:40', 'Strawberries', '98']\n"
     ]
    }
   ],
   "source": [
    "exampleCSV = open(\"example.csv\")\n",
    "exampleReader = csv.reader(exampleCSV)\n",
    "for row in exampleReader:\n",
    "    print('Row #' + str(exampleReader.line_num) + ' ' + str(row))"
   ]
  },
  {
   "cell_type": "code",
   "execution_count": 4,
   "metadata": {
    "slideshow": {
     "slide_type": "slide"
    }
   },
   "outputs": [],
   "source": [
    "outputFile = open(\"output.csv\",\"w\")\n",
    "outputWriter = csv.writer(outputFile)\n",
    "outputWriter.writerow(['spam','eggs','bacon','ham'])\n",
    "outputWriter.writerow(['Hello, class!','eggs','bacon','ham'])\n",
    "outputWriter.writerow([1,2,3,4])\n",
    "\n",
    "outputFile.close()"
   ]
  },
  {
   "cell_type": "code",
   "execution_count": 5,
   "metadata": {
    "slideshow": {
     "slide_type": "slide"
    }
   },
   "outputs": [],
   "source": [
    "tsvFile = open('example.tsv','w')\n",
    "tsvWriter = csv.writer(tsvFile, delimiter=\"\\t\", lineterminator=\"\\n\\n\")\n",
    "\n",
    "tsvWriter.writerow(['spam','eggs','bacon','ham'])\n",
    "tsvWriter.writerow(['Hello, class!','eggs','bacon','ham'])\n",
    "tsvWriter.writerow([1,2,3,4])\n",
    "\n",
    "tsvFile.close()"
   ]
  },
  {
   "cell_type": "markdown",
   "metadata": {
    "slideshow": {
     "slide_type": "slide"
    }
   },
   "source": [
    "## JSON and APIs\n",
    "---\n",
    "* Here is an example of JSON:\n",
    "```\n",
    "    {\n",
    "        \"universityName\":\"University of Wyoming\"\n",
    "        \"city\":\"Laramie\",\n",
    "        \"state\":\"Wyoming\",\n",
    "        \"elevation\":7220\n",
    "    }\n",
    "```"
   ]
  },
  {
   "cell_type": "code",
   "execution_count": 10,
   "metadata": {
    "slideshow": {
     "slide_type": "slide"
    }
   },
   "outputs": [
    {
     "name": "stdout",
     "output_type": "stream",
     "text": [
      "{'universityName': 'University of Wyoming', 'city': 'Laramie', 'state': 'Wyoming', 'elevation': 7220}\n"
     ]
    }
   ],
   "source": [
    "import json\n",
    "\n",
    "jsonString = \"\"\"{\n",
    "        \"universityName\":\"University of Wyoming\",\n",
    "        \"city\":\"Laramie\",\n",
    "        \"state\":\"Wyoming\",\n",
    "        \"elevation\":7220\n",
    "    }\"\"\"\n",
    "\n",
    "jsonAsPy =  json.loads(jsonString)\n",
    "print(jsonAsPy)"
   ]
  },
  {
   "cell_type": "code",
   "execution_count": 12,
   "metadata": {
    "slideshow": {
     "slide_type": "slide"
    }
   },
   "outputs": [
    {
     "name": "stdout",
     "output_type": "stream",
     "text": [
      "{\"keyOne\": \"hi\", \"keyTwo\": 7220}\n"
     ]
    }
   ],
   "source": [
    "randDict = {\"keyOne\":\"hi\", \"keyTwo\":7220}\n",
    "stringOfJSON = json.dumps(randDict)\n",
    "print(stringOfJSON)"
   ]
  },
  {
   "cell_type": "markdown",
   "metadata": {
    "slideshow": {
     "slide_type": "slide"
    }
   },
   "source": [
    "## Putting it Together\n",
    "---\n",
    "* We can put it together to write a program to give us a weather forecast\n",
    "* We can:\n",
    "    * Make an API call to retrieve a JSON \n",
    "    * Parse that string into a Python dictionary\n",
    "    * Give a forecast for Laramie"
   ]
  },
  {
   "cell_type": "markdown",
   "metadata": {
    "slideshow": {
     "slide_type": "slide"
    }
   },
   "source": [
    "## Putting it Together\n",
    "--- \n",
    "* To begin we will need an additional module to make the API request\n",
    "    * API requests are very similar to when you visit a website\n",
    "* We will be using the `requests` module to accomplish this\n",
    "* We will also need the URL `https://api.weather.gov/gridpoints/CYS/84,23/forecast`"
   ]
  },
  {
   "cell_type": "code",
   "execution_count": 6,
   "metadata": {
    "slideshow": {
     "slide_type": "slide"
    }
   },
   "outputs": [
    {
     "name": "stdout",
     "output_type": "stream",
     "text": [
      "{\n",
      "    \"@context\": [\n",
      "        \"https://geojson.org/geojson-ld/geojson-context.jsonld\",\n",
      "        {\n",
      "            \"@version\": \"1.1\",\n",
      "            \"wx\": \"https://api.weather.gov/ontology#\",\n",
      "            \"geo\": \"http://www.opengis.net/ont/geosparql#\",\n",
      "            \"unit\": \"http://codes.wmo.int/common/unit/\",\n",
      "            \"@vocab\": \"https://api.weather.gov/ontology#\"\n",
      "        }\n",
      "    ],\n",
      "    \"type\": \"Feature\",\n",
      "    \"geometry\": {\n",
      "        \"type\": \"Polygon\",\n",
      "        \"coordinates\": [\n",
      "            [\n",
      "                [\n",
      "                    -105.5968706,\n",
      "                    41.312215100000003\n",
      "                ],\n",
      "                [\n",
      "                    -105.59459770000001,\n",
      "                    41.290412000000003\n",
      "                ],\n",
      "                [\n",
      "                    -105.5655653,\n",
      "                    41.292117800000007\n",
      "                ],\n",
      "                [\n",
      "                    -105.56783200000001,\n",
      "                    41.313921100000009\n",
      "                ],\n",
      "                [\n",
      "                    -105.5968706,\n",
      "                    41.312215100000003\n",
      "                ]\n",
      "            ]\n",
      "        ]\n",
      "    },\n",
      "    \"properties\": {\n",
      "        \"updated\": \"2024-04-23T08:30:36+00:00\",\n",
      "        \"units\": \"us\",\n",
      "        \"forecastGenerator\": \"BaselineForecastGenerator\",\n",
      "        \"generatedAt\": \"2024-04-23T15:07:43+00:00\",\n",
      "        \"updateTime\": \"2024-04-23T08:30:36+00:00\",\n",
      "        \"validTimes\": \"2024-04-23T02:00:00+00:00/P7DT23H\",\n",
      "        \"elevation\": {\n",
      "            \"unitCode\": \"wmoUnit:m\",\n",
      "            \"value\": 2193.9504000000002\n",
      "        },\n",
      "        \"periods\": [\n",
      "            {\n",
      "                \"number\": 1,\n",
      "                \"name\": \"Today\",\n",
      "                \"startTime\": \"2024-04-23T09:00:00-06:00\",\n",
      "                \"endTime\": \"2024-04-23T18:00:00-06:00\",\n",
      "                \"isDaytime\": true,\n",
      "                \"temperature\": 59,\n",
      "                \"temperatureUnit\": \"F\",\n",
      "                \"temperatureTrend\": \"falling\",\n",
      "                \"probabilityOfPrecipitation\": {\n",
      "                    \"unitCode\": \"wmoUnit:percent\",\n",
      "                    \"value\": null\n",
      "                },\n",
      "                \"dewpoint\": {\n",
      "                    \"unitCode\": \"wmoUnit:degC\",\n",
      "                    \"value\": -4.4444444444444446\n",
      "                },\n",
      "                \"relativeHumidity\": {\n",
      "                    \"unitCode\": \"wmoUnit:percent\",\n",
      "                    \"value\": 37\n",
      "                },\n",
      "                \"windSpeed\": \"5 to 10 mph\",\n",
      "                \"windDirection\": \"SE\",\n",
      "                \"icon\": \"https://api.weather.gov/icons/land/day/sct/rain_showers?size=medium\",\n",
      "                \"shortForecast\": \"Mostly Sunny then Chance Rain Showers\",\n",
      "                \"detailedForecast\": \"A chance of rain showers after 3pm. Mostly sunny. High near 59, with temperatures falling to around 55 in the afternoon. Southeast wind 5 to 10 mph.\"\n",
      "            },\n",
      "            {\n",
      "                \"number\": 2,\n",
      "                \"name\": \"Tonight\",\n",
      "                \"startTime\": \"2024-04-23T18:00:00-06:00\",\n",
      "                \"endTime\": \"2024-04-24T06:00:00-06:00\",\n",
      "                \"isDaytime\": false,\n",
      "                \"temperature\": 36,\n",
      "                \"temperatureUnit\": \"F\",\n",
      "                \"temperatureTrend\": null,\n",
      "                \"probabilityOfPrecipitation\": {\n",
      "                    \"unitCode\": \"wmoUnit:percent\",\n",
      "                    \"value\": 30\n",
      "                },\n",
      "                \"dewpoint\": {\n",
      "                    \"unitCode\": \"wmoUnit:degC\",\n",
      "                    \"value\": 0.55555555555555558\n",
      "                },\n",
      "                \"relativeHumidity\": {\n",
      "                    \"unitCode\": \"wmoUnit:percent\",\n",
      "                    \"value\": 82\n",
      "                },\n",
      "                \"windSpeed\": \"10 to 15 mph\",\n",
      "                \"windDirection\": \"SSE\",\n",
      "                \"icon\": \"https://api.weather.gov/icons/land/night/rain_showers,30/rain_showers,20?size=medium\",\n",
      "                \"shortForecast\": \"Chance Rain Showers\",\n",
      "                \"detailedForecast\": \"A chance of rain showers. Mostly cloudy, with a low around 36. South southeast wind 10 to 15 mph. Chance of precipitation is 30%. New rainfall amounts less than a tenth of an inch possible.\"\n",
      "            },\n",
      "            {\n",
      "                \"number\": 3,\n",
      "                \"name\": \"Wednesday\",\n",
      "                \"startTime\": \"2024-04-24T06:00:00-06:00\",\n",
      "                \"endTime\": \"2024-04-24T18:00:00-06:00\",\n",
      "                \"isDaytime\": true,\n",
      "                \"temperature\": 68,\n",
      "                \"temperatureUnit\": \"F\",\n",
      "                \"temperatureTrend\": \"falling\",\n",
      "                \"probabilityOfPrecipitation\": {\n",
      "                    \"unitCode\": \"wmoUnit:percent\",\n",
      "                    \"value\": 30\n",
      "                },\n",
      "                \"dewpoint\": {\n",
      "                    \"unitCode\": \"wmoUnit:degC\",\n",
      "                    \"value\": 1.6666666666666667\n",
      "                },\n",
      "                \"relativeHumidity\": {\n",
      "                    \"unitCode\": \"wmoUnit:percent\",\n",
      "                    \"value\": 82\n",
      "                },\n",
      "                \"windSpeed\": \"5 to 15 mph\",\n",
      "                \"windDirection\": \"WSW\",\n",
      "                \"icon\": \"https://api.weather.gov/icons/land/day/snow/tsra_hi,30?size=medium\",\n",
      "                \"shortForecast\": \"Chance Rain And Snow Showers then Chance Showers And Thunderstorms\",\n",
      "                \"detailedForecast\": \"A chance of rain and snow showers before noon, then a chance of showers and thunderstorms between noon and 3pm, then a chance of showers and thunderstorms. Mostly sunny. High near 68, with temperatures falling to around 65 in the afternoon. West southwest wind 5 to 15 mph. Chance of precipitation is 30%.\"\n",
      "            },\n",
      "            {\n",
      "                \"number\": 4,\n",
      "                \"name\": \"Wednesday Night\",\n",
      "                \"startTime\": \"2024-04-24T18:00:00-06:00\",\n",
      "                \"endTime\": \"2024-04-25T06:00:00-06:00\",\n",
      "                \"isDaytime\": false,\n",
      "                \"temperature\": 39,\n",
      "                \"temperatureUnit\": \"F\",\n",
      "                \"temperatureTrend\": null,\n",
      "                \"probabilityOfPrecipitation\": {\n",
      "                    \"unitCode\": \"wmoUnit:percent\",\n",
      "                    \"value\": null\n",
      "                },\n",
      "                \"dewpoint\": {\n",
      "                    \"unitCode\": \"wmoUnit:degC\",\n",
      "                    \"value\": 1.1111111111111112\n",
      "                },\n",
      "                \"relativeHumidity\": {\n",
      "                    \"unitCode\": \"wmoUnit:percent\",\n",
      "                    \"value\": 62\n",
      "                },\n",
      "                \"windSpeed\": \"5 to 10 mph\",\n",
      "                \"windDirection\": \"SSW\",\n",
      "                \"icon\": \"https://api.weather.gov/icons/land/night/sct?size=medium\",\n",
      "                \"shortForecast\": \"Partly Cloudy\",\n",
      "                \"detailedForecast\": \"Partly cloudy, with a low around 39. South southwest wind 5 to 10 mph.\"\n",
      "            },\n",
      "            {\n",
      "                \"number\": 5,\n",
      "                \"name\": \"Thursday\",\n",
      "                \"startTime\": \"2024-04-25T06:00:00-06:00\",\n",
      "                \"endTime\": \"2024-04-25T18:00:00-06:00\",\n",
      "                \"isDaytime\": true,\n",
      "                \"temperature\": 67,\n",
      "                \"temperatureUnit\": \"F\",\n",
      "                \"temperatureTrend\": null,\n",
      "                \"probabilityOfPrecipitation\": {\n",
      "                    \"unitCode\": \"wmoUnit:percent\",\n",
      "                    \"value\": 40\n",
      "                },\n",
      "                \"dewpoint\": {\n",
      "                    \"unitCode\": \"wmoUnit:degC\",\n",
      "                    \"value\": -1.6666666666666667\n",
      "                },\n",
      "                \"relativeHumidity\": {\n",
      "                    \"unitCode\": \"wmoUnit:percent\",\n",
      "                    \"value\": 59\n",
      "                },\n",
      "                \"windSpeed\": \"5 to 15 mph\",\n",
      "                \"windDirection\": \"WSW\",\n",
      "                \"icon\": \"https://api.weather.gov/icons/land/day/sct/tsra_hi,40?size=medium\",\n",
      "                \"shortForecast\": \"Mostly Sunny then Chance Showers And Thunderstorms\",\n",
      "                \"detailedForecast\": \"A chance of showers and thunderstorms after noon. Mostly sunny, with a high near 67. West southwest wind 5 to 15 mph. Chance of precipitation is 40%.\"\n",
      "            },\n",
      "            {\n",
      "                \"number\": 6,\n",
      "                \"name\": \"Thursday Night\",\n",
      "                \"startTime\": \"2024-04-25T18:00:00-06:00\",\n",
      "                \"endTime\": \"2024-04-26T06:00:00-06:00\",\n",
      "                \"isDaytime\": false,\n",
      "                \"temperature\": 40,\n",
      "                \"temperatureUnit\": \"F\",\n",
      "                \"temperatureTrend\": null,\n",
      "                \"probabilityOfPrecipitation\": {\n",
      "                    \"unitCode\": \"wmoUnit:percent\",\n",
      "                    \"value\": 60\n",
      "                },\n",
      "                \"dewpoint\": {\n",
      "                    \"unitCode\": \"wmoUnit:degC\",\n",
      "                    \"value\": 0.55555555555555558\n",
      "                },\n",
      "                \"relativeHumidity\": {\n",
      "                    \"unitCode\": \"wmoUnit:percent\",\n",
      "                    \"value\": 76\n",
      "                },\n",
      "                \"windSpeed\": \"15 mph\",\n",
      "                \"windDirection\": \"W\",\n",
      "                \"icon\": \"https://api.weather.gov/icons/land/night/tsra,60/tsra,30?size=medium\",\n",
      "                \"shortForecast\": \"Showers And Thunderstorms Likely\",\n",
      "                \"detailedForecast\": \"Showers and thunderstorms likely. Mostly cloudy, with a low around 40. Chance of precipitation is 60%.\"\n",
      "            },\n",
      "            {\n",
      "                \"number\": 7,\n",
      "                \"name\": \"Friday\",\n",
      "                \"startTime\": \"2024-04-26T06:00:00-06:00\",\n",
      "                \"endTime\": \"2024-04-26T18:00:00-06:00\",\n",
      "                \"isDaytime\": true,\n",
      "                \"temperature\": 56,\n",
      "                \"temperatureUnit\": \"F\",\n",
      "                \"temperatureTrend\": null,\n",
      "                \"probabilityOfPrecipitation\": {\n",
      "                    \"unitCode\": \"wmoUnit:percent\",\n",
      "                    \"value\": 80\n",
      "                },\n",
      "                \"dewpoint\": {\n",
      "                    \"unitCode\": \"wmoUnit:degC\",\n",
      "                    \"value\": 0.55555555555555558\n",
      "                },\n",
      "                \"relativeHumidity\": {\n",
      "                    \"unitCode\": \"wmoUnit:percent\",\n",
      "                    \"value\": 76\n",
      "                },\n",
      "                \"windSpeed\": \"15 to 20 mph\",\n",
      "                \"windDirection\": \"WNW\",\n",
      "                \"icon\": \"https://api.weather.gov/icons/land/day/rain_showers,40/tsra,80?size=medium\",\n",
      "                \"shortForecast\": \"Showers And Thunderstorms\",\n",
      "                \"detailedForecast\": \"A chance of rain showers before noon, then showers and thunderstorms. Mostly cloudy, with a high near 56. Chance of precipitation is 80%.\"\n",
      "            },\n",
      "            {\n",
      "                \"number\": 8,\n",
      "                \"name\": \"Friday Night\",\n",
      "                \"startTime\": \"2024-04-26T18:00:00-06:00\",\n",
      "                \"endTime\": \"2024-04-27T06:00:00-06:00\",\n",
      "                \"isDaytime\": false,\n",
      "                \"temperature\": 36,\n",
      "                \"temperatureUnit\": \"F\",\n",
      "                \"temperatureTrend\": null,\n",
      "                \"probabilityOfPrecipitation\": {\n",
      "                    \"unitCode\": \"wmoUnit:percent\",\n",
      "                    \"value\": null\n",
      "                },\n",
      "                \"dewpoint\": {\n",
      "                    \"unitCode\": \"wmoUnit:degC\",\n",
      "                    \"value\": 0.55555555555555558\n",
      "                },\n",
      "                \"relativeHumidity\": {\n",
      "                    \"unitCode\": \"wmoUnit:percent\",\n",
      "                    \"value\": 88\n",
      "                },\n",
      "                \"windSpeed\": \"10 to 15 mph\",\n",
      "                \"windDirection\": \"N\",\n",
      "                \"icon\": \"https://api.weather.gov/icons/land/night/rain_showers?size=medium\",\n",
      "                \"shortForecast\": \"Rain Showers Likely\",\n",
      "                \"detailedForecast\": \"Rain showers likely. Mostly cloudy, with a low around 36.\"\n",
      "            },\n",
      "            {\n",
      "                \"number\": 9,\n",
      "                \"name\": \"Saturday\",\n",
      "                \"startTime\": \"2024-04-27T06:00:00-06:00\",\n",
      "                \"endTime\": \"2024-04-27T18:00:00-06:00\",\n",
      "                \"isDaytime\": true,\n",
      "                \"temperature\": 48,\n",
      "                \"temperatureUnit\": \"F\",\n",
      "                \"temperatureTrend\": null,\n",
      "                \"probabilityOfPrecipitation\": {\n",
      "                    \"unitCode\": \"wmoUnit:percent\",\n",
      "                    \"value\": null\n",
      "                },\n",
      "                \"dewpoint\": {\n",
      "                    \"unitCode\": \"wmoUnit:degC\",\n",
      "                    \"value\": 0.55555555555555558\n",
      "                },\n",
      "                \"relativeHumidity\": {\n",
      "                    \"unitCode\": \"wmoUnit:percent\",\n",
      "                    \"value\": 87\n",
      "                },\n",
      "                \"windSpeed\": \"10 to 15 mph\",\n",
      "                \"windDirection\": \"ENE\",\n",
      "                \"icon\": \"https://api.weather.gov/icons/land/day/snow/tsra?size=medium\",\n",
      "                \"shortForecast\": \"Rain And Snow Showers Likely then Showers And Thunderstorms\",\n",
      "                \"detailedForecast\": \"Rain and snow showers likely before noon, then showers and thunderstorms. Mostly cloudy, with a high near 48.\"\n",
      "            },\n",
      "            {\n",
      "                \"number\": 10,\n",
      "                \"name\": \"Saturday Night\",\n",
      "                \"startTime\": \"2024-04-27T18:00:00-06:00\",\n",
      "                \"endTime\": \"2024-04-28T06:00:00-06:00\",\n",
      "                \"isDaytime\": false,\n",
      "                \"temperature\": 32,\n",
      "                \"temperatureUnit\": \"F\",\n",
      "                \"temperatureTrend\": null,\n",
      "                \"probabilityOfPrecipitation\": {\n",
      "                    \"unitCode\": \"wmoUnit:percent\",\n",
      "                    \"value\": null\n",
      "                },\n",
      "                \"dewpoint\": {\n",
      "                    \"unitCode\": \"wmoUnit:degC\",\n",
      "                    \"value\": 0\n",
      "                },\n",
      "                \"relativeHumidity\": {\n",
      "                    \"unitCode\": \"wmoUnit:percent\",\n",
      "                    \"value\": 89\n",
      "                },\n",
      "                \"windSpeed\": \"10 to 15 mph\",\n",
      "                \"windDirection\": \"NNW\",\n",
      "                \"icon\": \"https://api.weather.gov/icons/land/night/snow?size=medium\",\n",
      "                \"shortForecast\": \"Rain And Snow Showers Likely\",\n",
      "                \"detailedForecast\": \"Rain showers likely before 10pm, then rain and snow showers likely. Mostly cloudy, with a low around 32. New snow accumulation of less than half an inch possible.\"\n",
      "            },\n",
      "            {\n",
      "                \"number\": 11,\n",
      "                \"name\": \"Sunday\",\n",
      "                \"startTime\": \"2024-04-28T06:00:00-06:00\",\n",
      "                \"endTime\": \"2024-04-28T18:00:00-06:00\",\n",
      "                \"isDaytime\": true,\n",
      "                \"temperature\": 50,\n",
      "                \"temperatureUnit\": \"F\",\n",
      "                \"temperatureTrend\": null,\n",
      "                \"probabilityOfPrecipitation\": {\n",
      "                    \"unitCode\": \"wmoUnit:percent\",\n",
      "                    \"value\": null\n",
      "                },\n",
      "                \"dewpoint\": {\n",
      "                    \"unitCode\": \"wmoUnit:degC\",\n",
      "                    \"value\": -1.6666666666666667\n",
      "                },\n",
      "                \"relativeHumidity\": {\n",
      "                    \"unitCode\": \"wmoUnit:percent\",\n",
      "                    \"value\": 88\n",
      "                },\n",
      "                \"windSpeed\": \"15 to 25 mph\",\n",
      "                \"windDirection\": \"WNW\",\n",
      "                \"icon\": \"https://api.weather.gov/icons/land/day/snow?size=medium\",\n",
      "                \"shortForecast\": \"Chance Rain And Snow Showers\",\n",
      "                \"detailedForecast\": \"A chance of rain and snow showers. Partly sunny, with a high near 50. New snow accumulation of less than half an inch possible.\"\n",
      "            },\n",
      "            {\n",
      "                \"number\": 12,\n",
      "                \"name\": \"Sunday Night\",\n",
      "                \"startTime\": \"2024-04-28T18:00:00-06:00\",\n",
      "                \"endTime\": \"2024-04-29T06:00:00-06:00\",\n",
      "                \"isDaytime\": false,\n",
      "                \"temperature\": 33,\n",
      "                \"temperatureUnit\": \"F\",\n",
      "                \"temperatureTrend\": null,\n",
      "                \"probabilityOfPrecipitation\": {\n",
      "                    \"unitCode\": \"wmoUnit:percent\",\n",
      "                    \"value\": null\n",
      "                },\n",
      "                \"dewpoint\": {\n",
      "                    \"unitCode\": \"wmoUnit:degC\",\n",
      "                    \"value\": -2.2222222222222223\n",
      "                },\n",
      "                \"relativeHumidity\": {\n",
      "                    \"unitCode\": \"wmoUnit:percent\",\n",
      "                    \"value\": 76\n",
      "                },\n",
      "                \"windSpeed\": \"15 to 20 mph\",\n",
      "                \"windDirection\": \"W\",\n",
      "                \"icon\": \"https://api.weather.gov/icons/land/night/snow/sct?size=medium\",\n",
      "                \"shortForecast\": \"Slight Chance Rain And Snow Showers then Partly Cloudy\",\n",
      "                \"detailedForecast\": \"A slight chance of rain showers before 11pm, then a slight chance of rain and snow showers between 11pm and midnight. Partly cloudy, with a low around 33.\"\n",
      "            },\n",
      "            {\n",
      "                \"number\": 13,\n",
      "                \"name\": \"Monday\",\n",
      "                \"startTime\": \"2024-04-29T06:00:00-06:00\",\n",
      "                \"endTime\": \"2024-04-29T18:00:00-06:00\",\n",
      "                \"isDaytime\": true,\n",
      "                \"temperature\": 59,\n",
      "                \"temperatureUnit\": \"F\",\n",
      "                \"temperatureTrend\": null,\n",
      "                \"probabilityOfPrecipitation\": {\n",
      "                    \"unitCode\": \"wmoUnit:percent\",\n",
      "                    \"value\": null\n",
      "                },\n",
      "                \"dewpoint\": {\n",
      "                    \"unitCode\": \"wmoUnit:degC\",\n",
      "                    \"value\": -2.2222222222222223\n",
      "                },\n",
      "                \"relativeHumidity\": {\n",
      "                    \"unitCode\": \"wmoUnit:percent\",\n",
      "                    \"value\": 74\n",
      "                },\n",
      "                \"windSpeed\": \"15 to 20 mph\",\n",
      "                \"windDirection\": \"WSW\",\n",
      "                \"icon\": \"https://api.weather.gov/icons/land/day/sct/rain_showers?size=medium\",\n",
      "                \"shortForecast\": \"Mostly Sunny then Slight Chance Rain Showers\",\n",
      "                \"detailedForecast\": \"A slight chance of rain showers after noon. Mostly sunny, with a high near 59.\"\n",
      "            },\n",
      "            {\n",
      "                \"number\": 14,\n",
      "                \"name\": \"Monday Night\",\n",
      "                \"startTime\": \"2024-04-29T18:00:00-06:00\",\n",
      "                \"endTime\": \"2024-04-30T06:00:00-06:00\",\n",
      "                \"isDaytime\": false,\n",
      "                \"temperature\": 36,\n",
      "                \"temperatureUnit\": \"F\",\n",
      "                \"temperatureTrend\": null,\n",
      "                \"probabilityOfPrecipitation\": {\n",
      "                    \"unitCode\": \"wmoUnit:percent\",\n",
      "                    \"value\": null\n",
      "                },\n",
      "                \"dewpoint\": {\n",
      "                    \"unitCode\": \"wmoUnit:degC\",\n",
      "                    \"value\": -1.1111111111111112\n",
      "                },\n",
      "                \"relativeHumidity\": {\n",
      "                    \"unitCode\": \"wmoUnit:percent\",\n",
      "                    \"value\": 76\n",
      "                },\n",
      "                \"windSpeed\": \"10 to 20 mph\",\n",
      "                \"windDirection\": \"SW\",\n",
      "                \"icon\": \"https://api.weather.gov/icons/land/night/rain_showers?size=medium\",\n",
      "                \"shortForecast\": \"Slight Chance Rain Showers\",\n",
      "                \"detailedForecast\": \"A slight chance of rain showers. Partly cloudy, with a low around 36.\"\n",
      "            }\n",
      "        ]\n",
      "    }\n",
      "}\n"
     ]
    }
   ],
   "source": [
    "#import the request module so we can reach out to the external website\n",
    "import requests\n",
    "\n",
    "# first we will store the URL in a variable\n",
    "url = \"https://api.weather.gov/gridpoints/CYS/84,23/forecast\"\n",
    "#we then need to make our request\n",
    "#what we are really doing is sending an HTTP GET request to a website\n",
    "#but getting JSON back, rather HTML or a website\n",
    "response = requests.get(url)\n",
    "# that is the overall response though, we need to pull our data from it\n",
    "response_data = response.text\n",
    "# Print it out, it will be truncated\n",
    "# visiting the URL is a great way to see what it looks like!\n",
    "print(response_data)\n"
   ]
  },
  {
   "cell_type": "code",
   "execution_count": 11,
   "metadata": {
    "slideshow": {
     "slide_type": "slide"
    }
   },
   "outputs": [],
   "source": [
    "#Just to be safe, we will save that JSON string to a file\n",
    "with open(\"weather.json\",\"w\") as file:\n",
    "    file.write(response_data)"
   ]
  },
  {
   "cell_type": "code",
   "execution_count": 12,
   "metadata": {
    "slideshow": {
     "slide_type": "slide"
    }
   },
   "outputs": [],
   "source": [
    "#Move all the data into a Python dictionary\n",
    "data = json.loads(response_data)\n",
    "#This is the first sub dictionary, you can figure it out by looking at the json file\n",
    "props = data[\"properties\"]\n",
    "#Periods is the data we actually want\n",
    "periods = props[\"periods\"]"
   ]
  },
  {
   "cell_type": "code",
   "execution_count": 13,
   "metadata": {
    "slideshow": {
     "slide_type": "slide"
    }
   },
   "outputs": [
    {
     "name": "stdout",
     "output_type": "stream",
     "text": [
      "Weather forecast for Laramie:\n",
      "Today             59F\tTonight           36F\n",
      "---------------------------------------------\n",
      "Wednesday         68F\tWednesday Night   39F\n",
      "---------------------------------------------\n",
      "Thursday          67F\tThursday Night    40F\n",
      "---------------------------------------------\n",
      "Friday            56F\tFriday Night      36F\n",
      "---------------------------------------------\n",
      "Saturday          48F\tSaturday Night    32F\n",
      "---------------------------------------------\n",
      "Sunday            50F\tSunday Night      33F\n",
      "---------------------------------------------\n",
      "Monday            59F\tMonday Night      36F\n",
      "---------------------------------------------\n"
     ]
    }
   ],
   "source": [
    "print(\"Weather forecast for Laramie:\")\n",
    "i = 1\n",
    "for period in periods:\n",
    "    if i%2 == 1:\n",
    "        name = \"{:18}\".format(period[\"name\"])\n",
    "        print(f\"{name}{period['temperature']}F\",end=\"\")\n",
    "    else:\n",
    "        name = \"{:18}\".format(period[\"name\"])\n",
    "        print(f\"\\t{name}{period['temperature']}F\")\n",
    "        print(\"---------------------------------------------\")\n",
    "    i+=1"
   ]
  },
  {
   "cell_type": "code",
   "execution_count": null,
   "metadata": {},
   "outputs": [],
   "source": []
  }
 ],
 "metadata": {
  "celltoolbar": "Slideshow",
  "kernelspec": {
   "display_name": "Python 3 (ipykernel)",
   "language": "python",
   "name": "python3"
  },
  "language_info": {
   "codemirror_mode": {
    "name": "ipython",
    "version": 3
   },
   "file_extension": ".py",
   "mimetype": "text/x-python",
   "name": "python",
   "nbconvert_exporter": "python",
   "pygments_lexer": "ipython3",
   "version": "3.10.12"
  }
 },
 "nbformat": 4,
 "nbformat_minor": 2
}
