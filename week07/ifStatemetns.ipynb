{
 "cells": [
  {
   "cell_type": "code",
   "execution_count": 1,
   "metadata": {},
   "outputs": [
    {
     "name": "stdout",
     "output_type": "stream",
     "text": [
      "LARAMIE\n",
      "Casper\n",
      "Jackson\n",
      "Cheyenne\n"
     ]
    }
   ],
   "source": [
    "cities = [\"laramie\",\"casper\",\"jackson\",\"cheyenne\"]\n",
    "\n",
    "for city in cities:\n",
    "    if city == \"laramie\":\n",
    "        print(city.upper())\n",
    "    else:\n",
    "        print(city.title())"
   ]
  },
  {
   "cell_type": "markdown",
   "metadata": {},
   "source": [
    "The previous cell does the following:\n",
    "* declares the list `cities = [\"laramie\",\"casper\",\"jackson\",\"cheyenne\"]`\n",
    "* Iterates through each element \n",
    "* Checks `if city == \"laramie\":` \n",
    "    * Which is checking to see if the variable `city` holds the value `laramie` for a given iteration\n",
    "        * If yes that value is printed in all caps\n",
    "    * Otherwise the value is printed in title case"
   ]
  },
  {
   "cell_type": "code",
   "execution_count": 2,
   "metadata": {},
   "outputs": [
    {
     "name": "stdout",
     "output_type": "stream",
     "text": [
      "True\n"
     ]
    }
   ],
   "source": [
    "city = \"Laramie\"\n",
    "print(city==\"Laramie\")"
   ]
  },
  {
   "cell_type": "markdown",
   "metadata": {},
   "source": [
    "The previous cell is a simple comparison\n",
    "WE assign the value of `Laramie` to the variable `city`\n",
    "WE then use the equality check `==`"
   ]
  },
  {
   "cell_type": "code",
   "execution_count": 3,
   "metadata": {},
   "outputs": [
    {
     "name": "stdout",
     "output_type": "stream",
     "text": [
      "False\n",
      "False\n"
     ]
    }
   ],
   "source": [
    "city = \"Laramie\"\n",
    "print(city==\"Cheyenne\")\n",
    "print(city==\"laramie\")"
   ]
  },
  {
   "cell_type": "code",
   "execution_count": 4,
   "metadata": {},
   "outputs": [
    {
     "name": "stdout",
     "output_type": "stream",
     "text": [
      "True\n"
     ]
    }
   ],
   "source": [
    "city = 'Laramie'\n",
    "print(city.upper()=='laramie'.upper())"
   ]
  },
  {
   "cell_type": "code",
   "execution_count": 5,
   "metadata": {},
   "outputs": [
    {
     "name": "stdout",
     "output_type": "stream",
     "text": [
      "False\n",
      "True\n",
      "Laramie is not equal to Cheyenne\n"
     ]
    }
   ],
   "source": [
    "city = \"Laramie\"\n",
    "city_two = \"Cheyenne\"\n",
    "\n",
    "print(city == city_two)\n",
    "if city == city_two:\n",
    "    print(f\"{city} is equal to {city_two}\")\n",
    "\n",
    "print(city != city_two)\n",
    "if city != city_two:\n",
    "    print(f\"{city} is not equal to {city_two}\")"
   ]
  },
  {
   "cell_type": "code",
   "execution_count": 6,
   "metadata": {},
   "outputs": [
    {
     "name": "stdout",
     "output_type": "stream",
     "text": [
      "False\n",
      "True\n"
     ]
    }
   ],
   "source": [
    "print(\"dog\"!=\"dog\")\n",
    "print(\"dog\"!=\"cat\")"
   ]
  },
  {
   "cell_type": "code",
   "execution_count": 7,
   "metadata": {},
   "outputs": [
    {
     "name": "stdout",
     "output_type": "stream",
     "text": [
      "True\n",
      "False\n"
     ]
    }
   ],
   "source": [
    "age_to_drive = 16\n",
    "\n",
    "print(age_to_drive == 16)\n",
    "print(age_to_drive == 15)"
   ]
  },
  {
   "cell_type": "code",
   "execution_count": 8,
   "metadata": {},
   "outputs": [
    {
     "name": "stdout",
     "output_type": "stream",
     "text": [
      "False\n",
      "True\n"
     ]
    }
   ],
   "source": [
    "age_to_drive = 16\n",
    "\n",
    "print(age_to_drive != 16)\n",
    "print(age_to_drive != 15)"
   ]
  },
  {
   "cell_type": "code",
   "execution_count": 9,
   "metadata": {},
   "outputs": [
    {
     "name": "stdout",
     "output_type": "stream",
     "text": [
      "False\n",
      "False\n",
      "True\n",
      "True\n"
     ]
    }
   ],
   "source": [
    "age_to_drive = 16\n",
    "print(age_to_drive < 16)\n",
    "print(age_to_drive > 16)\n",
    "print(age_to_drive <= 16)\n",
    "print(age_to_drive >= 16)"
   ]
  },
  {
   "cell_type": "code",
   "execution_count": 10,
   "metadata": {},
   "outputs": [
    {
     "name": "stdout",
     "output_type": "stream",
     "text": [
      "True\n",
      "False\n",
      "False\n",
      "False\n"
     ]
    }
   ],
   "source": [
    "age_zero = 22\n",
    "age_one = 20 \n",
    "print(age_zero >= 21)\n",
    "print(age_one >= 21)\n",
    "print(age_zero >= 21 and age_one >= 21)\n",
    "print((age_zero >= 21) and (age_one >= 21))"
   ]
  },
  {
   "cell_type": "code",
   "execution_count": 11,
   "metadata": {},
   "outputs": [
    {
     "name": "stdout",
     "output_type": "stream",
     "text": [
      "True\n",
      "False\n",
      "True\n"
     ]
    }
   ],
   "source": [
    "age_zero = 22\n",
    "age_one = 20 \n",
    "print(age_zero >= 21)\n",
    "print(age_one >= 21)\n",
    "print(age_zero >= 21 or age_one >= 21)"
   ]
  },
  {
   "cell_type": "code",
   "execution_count": 13,
   "metadata": {},
   "outputs": [
    {
     "name": "stdout",
     "output_type": "stream",
     "text": [
      "Laramie already in the list\n"
     ]
    }
   ],
   "source": [
    "#check to see if Laramie is in the list\n",
    "cities = [\"Laramie\",\"Casper\",\"Jackson Hole\",\"Cheyenne\"]\n",
    "\n",
    "if \"Laramie\" in cities:\n",
    "    print(\"Laramie already in the list\")"
   ]
  },
  {
   "cell_type": "code",
   "execution_count": 14,
   "metadata": {},
   "outputs": [
    {
     "name": "stdout",
     "output_type": "stream",
     "text": [
      "There is a space in Jackson Hole\n"
     ]
    }
   ],
   "source": [
    "cities = [\"Laramie\",\"Casper\",\"Jackson Hole\",\"Cheyenne\"]\n",
    "#see if there is a space in the first element in the list\n",
    "if \" \" in cities[0]:\n",
    "    print(f\"There is a space in {cities[0]}\")\n",
    "#see if there is a space in the third element\n",
    "if \" \" in cities[2]:\n",
    "    print(f\"There is a space in {cities[2]}\")"
   ]
  },
  {
   "cell_type": "code",
   "execution_count": 15,
   "metadata": {},
   "outputs": [
    {
     "name": "stdout",
     "output_type": "stream",
     "text": [
      "Go Pokes\n"
     ]
    }
   ],
   "source": [
    "#First declare a list of banned phrases\n",
    "banned_phrases = [\"Go Rams\",\"Boise is a state\"]\n",
    "#Check to see if the phrase \"Go Pokes\" is in that list\n",
    "if \"Go Pokes\" not in banned_phrases:\n",
    "    print(\"Go Pokes\")"
   ]
  },
  {
   "cell_type": "code",
   "execution_count": 16,
   "metadata": {},
   "outputs": [
    {
     "name": "stdout",
     "output_type": "stream",
     "text": [
      "This will print\n",
      "This will print\n"
     ]
    }
   ],
   "source": [
    "#Some basic if statements\n",
    "#Done only using the boolean operators True and False\n",
    "if True:\n",
    "    print('This will print')\n",
    "\n",
    "if False:\n",
    "    print('This not will print')\n",
    "\n",
    "if not True:\n",
    "    print('This not will print')\n",
    "\n",
    "if not False:\n",
    "    print('This will print')"
   ]
  },
  {
   "cell_type": "code",
   "execution_count": 17,
   "metadata": {},
   "outputs": [
    {
     "name": "stdout",
     "output_type": "stream",
     "text": [
      "you can vote!\n"
     ]
    }
   ],
   "source": [
    "#Assigns the integer value  of 16 to the variable age\n",
    "age = 19 \n",
    "\n",
    "#checks to see if the value referenced by age is greater than or equal to 18 \n",
    "if age >= 18:\n",
    "    print(\"you can vote!\")"
   ]
  },
  {
   "cell_type": "code",
   "execution_count": 18,
   "metadata": {},
   "outputs": [
    {
     "name": "stdout",
     "output_type": "stream",
     "text": [
      "You can't yet vote\n"
     ]
    }
   ],
   "source": [
    "#first sets age to be 17\n",
    "age = 17\n",
    "#adds in an else statement which will execute when if if statement evaluates to false\n",
    "if age >= 18:\n",
    "    print(\"You are old enough to vote!\")\n",
    "else:\n",
    "    print(\"You can't yet vote\")"
   ]
  },
  {
   "cell_type": "code",
   "execution_count": 19,
   "metadata": {},
   "outputs": [
    {
     "name": "stdout",
     "output_type": "stream",
     "text": [
      "Your cost of admission is $12.00\n"
     ]
    }
   ],
   "source": [
    "#Now adds in an elif\n",
    "#Remember, only one of these cases can execute\n",
    "\n",
    "age = 12 \n",
    "if age < 4:\n",
    "    price = 2\n",
    "elif age < 65:\n",
    "    price = 12\n",
    "else:\n",
    "    price = 7\n",
    "\n",
    "print(f\"Your cost of admission is ${price}.00\")"
   ]
  },
  {
   "cell_type": "code",
   "execution_count": 21,
   "metadata": {},
   "outputs": [
    {
     "name": "stdout",
     "output_type": "stream",
     "text": [
      "Your cost of admission is $10.00\n"
     ]
    }
   ],
   "source": [
    "#This one adds in an extra elif, still only one may execute\n",
    "age = 12 \n",
    "if age < 4:\n",
    "    price = 2\n",
    "elif age < 18:\n",
    "    price = 10\n",
    "elif age < 65:\n",
    "    price = 12\n",
    "else:\n",
    "    price = 7\n",
    "\n",
    "print(f\"Your cost of admission is ${price}.00\")"
   ]
  },
  {
   "cell_type": "code",
   "execution_count": 22,
   "metadata": {},
   "outputs": [
    {
     "name": "stdout",
     "output_type": "stream",
     "text": [
      "Your cost of admission is $10.00\n"
     ]
    }
   ],
   "source": [
    "# This one omits the else, so there is no default case \n",
    "age = 12 \n",
    "if age < 4:\n",
    "    price = 2\n",
    "elif age < 18:\n",
    "    price = 10\n",
    "elif age < 65:\n",
    "    price = 12\n",
    "elif age >= 65:\n",
    "    price = 7\n",
    "\n",
    "print(f\"Your cost of admission is ${price}.00\")"
   ]
  },
  {
   "cell_type": "code",
   "execution_count": 23,
   "metadata": {},
   "outputs": [
    {
     "name": "stdout",
     "output_type": "stream",
     "text": [
      "Laramie is in Wyoming\n",
      "Cheyenne is in Wyoming\n"
     ]
    }
   ],
   "source": [
    "#First declares our city list\n",
    "cities = [\"laramie\",\"casper\",\"jackson\",\"cheyenne\"]\n",
    "\n",
    "#Then checks to see if certain values are held within the list\n",
    "if 'laramie' in cities:\n",
    "    print(\"Laramie is in Wyoming\")\n",
    "if 'cheyenne' in cities:\n",
    "    print(\"Cheyenne is in Wyoming\")"
   ]
  },
  {
   "cell_type": "code",
   "execution_count": 24,
   "metadata": {},
   "outputs": [
    {
     "name": "stdout",
     "output_type": "stream",
     "text": [
      "Laramie has an 'a' in it!\n",
      "Casper has an 'a' in it!\n",
      "Jackson has an 'a' in it!\n"
     ]
    }
   ],
   "source": [
    "cities = [\"Laramie\",\"Casper\",\"Jackson\",\"Cheyenne\"]\n",
    "#now we can iterate through the list and do checks on the specific values\n",
    "for city in cities:\n",
    "    if 'a' in city.lower():\n",
    "        print(f\"{city} has an 'a' in it!\")"
   ]
  },
  {
   "cell_type": "code",
   "execution_count": 25,
   "metadata": {},
   "outputs": [
    {
     "name": "stdout",
     "output_type": "stream",
     "text": [
      "Laramie is the home of the University of Wyoming\n"
     ]
    }
   ],
   "source": [
    "cities = [\"Laramie\",\"Casper\",\"Jackson\",\"Cheyenne\"]\n",
    "\n",
    "#checks to see if a value matches something, uses the strong casing method to ensure the casing matches\n",
    "for city in cities:\n",
    "    if city.lower() == 'laramie':\n",
    "        print(f\"{city} is the home of the University of Wyoming\")"
   ]
  },
  {
   "cell_type": "code",
   "execution_count": 26,
   "metadata": {},
   "outputs": [
    {
     "name": "stdout",
     "output_type": "stream",
     "text": [
      "No home cities\n"
     ]
    }
   ],
   "source": [
    "user_home_cities = []\n",
    "\n",
    "#first checks to see if there are elements in the list, before trying to do something with it\n",
    "if user_home_cities:\n",
    "    for city in cities:\n",
    "        print(city)\n",
    "else:\n",
    "    print(\"No home cities\")"
   ]
  },
  {
   "cell_type": "code",
   "execution_count": 27,
   "metadata": {},
   "outputs": [
    {
     "name": "stdout",
     "output_type": "stream",
     "text": [
      "No cities stored\n"
     ]
    }
   ],
   "source": [
    "user_home_cities = []\n",
    "\n",
    "if len(user_home_cities) == 0:\n",
    "    print(\"No cities stored\")\n",
    "else:\n",
    "    print(f\"There are {len(user_home_cities)} stored\")"
   ]
  },
  {
   "cell_type": "code",
   "execution_count": 28,
   "metadata": {},
   "outputs": [
    {
     "name": "stdout",
     "output_type": "stream",
     "text": [
      "Adding extra cheese\n",
      "green onions  not available\n",
      "Adding pepperoni\n"
     ]
    }
   ],
   "source": [
    "#This code uses multiple lists\n",
    "#One is a list of possible toppings for a pizza, the next is the requested toppings\n",
    "#It goes through and checks if each requested topping is available\n",
    "\n",
    "avail_toppings = ['pepperoni', 'extra cheese', 'green peppers', 'bacon']\n",
    "\n",
    "requested_toppings = ['extra cheese', 'green onions', 'pepperoni']\n",
    "\n",
    "for req_top in requested_toppings:\n",
    "    if req_top in avail_toppings:\n",
    "        print(f\"Adding {req_top}\")\n",
    "    else:\n",
    "        print(f\"{req_top}  not available\")"
   ]
  },
  {
   "cell_type": "code",
   "execution_count": 1,
   "metadata": {},
   "outputs": [],
   "source": [
    "states = [\n",
    "    \"Alabama\", \"Alaska\", \"Arizona\", \"Arkansas\", \"California\",\n",
    "    \"Colorado\", \"Connecticut\", \"Delaware\", \"Florida\", \"Georgia\",\n",
    "    \"Hawaii\", \"Idaho\", \"Illinois\", \"Indiana\", \"Iowa\",\n",
    "    \"Kansas\", \"Kentucky\", \"Louisiana\", \"Maine\", \"Maryland\",\n",
    "    \"Massachusetts\", \"Michigan\", \"Minnesota\", \"Mississippi\", \"Missouri\",\n",
    "    \"Montana\", \"Nebraska\", \"Nevada\", \"New Hampshire\", \"New Jersey\",\n",
    "    \"New Mexico\", \"New York\", \"North Carolina\", \"North Dakota\", \"Ohio\",\n",
    "    \"Oklahoma\", \"Oregon\", \"Pennsylvania\", \"Rhode Island\", \"South Carolina\",\n",
    "    \"South Dakota\", \"Tennessee\", \"Texas\", \"Utah\", \"Vermont\",\n",
    "    \"Virginia\", \"Washington\", \"West Virginia\", \"Wisconsin\", \"Wyoming\"\n",
    "]\n",
    "#we can craft a for loop that only prints states that have a space within their name \n"
   ]
  },
  {
   "cell_type": "code",
   "execution_count": null,
   "metadata": {},
   "outputs": [],
   "source": [
    "#We can safely check if a list has elements before trying to access the first element,\n",
    "\n",
    "#Or if a list has an appropriate number before trying to access a certain index "
   ]
  }
 ],
 "metadata": {
  "kernelspec": {
   "display_name": "Python 3",
   "language": "python",
   "name": "python3"
  },
  "language_info": {
   "codemirror_mode": {
    "name": "ipython",
    "version": 3
   },
   "file_extension": ".py",
   "mimetype": "text/x-python",
   "name": "python",
   "nbconvert_exporter": "python",
   "pygments_lexer": "ipython3",
   "version": "3.8.10"
  }
 },
 "nbformat": 4,
 "nbformat_minor": 2
}
