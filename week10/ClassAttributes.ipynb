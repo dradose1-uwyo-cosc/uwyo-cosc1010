{
 "cells": [
  {
   "cell_type": "markdown",
   "metadata": {},
   "source": [
    "There were a couple questions regarding accessing class attributes within python.\n",
    "Specifically if there is a way to access **all** the attributes. \n",
    "\n",
    "In short: Yes! But there are some caveats.\n",
    "\n",
    "Lets start with the class below: "
   ]
  },
  {
   "cell_type": "code",
   "execution_count": 1,
   "metadata": {},
   "outputs": [],
   "source": [
    "class Dog:\n",
    "    \"\"\"A simple Dog class\"\"\"\n",
    "    def __init__(self, name, age, breed):\n",
    "        \"\"\"Initialize the name, age, and breed\"\"\" \n",
    "        self.name = name \n",
    "        self.age = age \n",
    "        self.breed = breed\n",
    "    def sit(self):\n",
    "        \"\"\"Simulate a dog sitting\"\"\"\n",
    "        print(f\"{self.name.title()} is now sitting\")\n",
    "    def stay(self):\n",
    "        \"\"\"Simulate the dog staying\"\"\"\n",
    "        print(f\"{self.name.title()} is now staying\")"
   ]
  },
  {
   "cell_type": "markdown",
   "metadata": {},
   "source": [
    "Visually we can see that class has the attributes:\n",
    "* `name`\n",
    "* `age`\n",
    "* `breed` \n",
    "With the methods of:\n",
    "* `__init__`\n",
    "* `sit`\n",
    "* `stay`\n",
    "\n",
    "But what if the class had more nad we needed to access all of them? \n",
    "\n",
    "There are a couple different ways to do so, the first being with the `dir` function. It takes as its parameter the class object:"
   ]
  },
  {
   "cell_type": "code",
   "execution_count": 2,
   "metadata": {},
   "outputs": [
    {
     "data": {
      "text/plain": [
       "['__class__',\n",
       " '__delattr__',\n",
       " '__dict__',\n",
       " '__dir__',\n",
       " '__doc__',\n",
       " '__eq__',\n",
       " '__format__',\n",
       " '__ge__',\n",
       " '__getattribute__',\n",
       " '__gt__',\n",
       " '__hash__',\n",
       " '__init__',\n",
       " '__init_subclass__',\n",
       " '__le__',\n",
       " '__lt__',\n",
       " '__module__',\n",
       " '__ne__',\n",
       " '__new__',\n",
       " '__reduce__',\n",
       " '__reduce_ex__',\n",
       " '__repr__',\n",
       " '__setattr__',\n",
       " '__sizeof__',\n",
       " '__str__',\n",
       " '__subclasshook__',\n",
       " '__weakref__',\n",
       " 'age',\n",
       " 'breed',\n",
       " 'name',\n",
       " 'sit',\n",
       " 'stay']"
      ]
     },
     "execution_count": 2,
     "metadata": {},
     "output_type": "execute_result"
    }
   ],
   "source": [
    "apollo = Dog('Apollo', 4, 'GSD/Husky')\n",
    "dir(apollo)"
   ]
  },
  {
   "cell_type": "markdown",
   "metadata": {},
   "source": [
    "`dir()` has some problems though, it gives *all* the attributes and methods, including those we don't care about. \n",
    "\n",
    "This is easy enough to solve though, all the internals start with \"__\" so we can filter out the results that contain that from out list."
   ]
  },
  {
   "cell_type": "code",
   "execution_count": 4,
   "metadata": {},
   "outputs": [
    {
     "name": "stdout",
     "output_type": "stream",
     "text": [
      "['age', 'breed', 'name', 'sit', 'stay']\n"
     ]
    }
   ],
   "source": [
    "apollo_atr = [a for a in dir(apollo) if not a.startswith('__')]\n",
    "print(apollo_atr)"
   ]
  },
  {
   "cell_type": "markdown",
   "metadata": {},
   "source": [
    "That works! (ish)\n",
    "\n",
    "It only shows the things we defined (excluding `__init__`)\n",
    "But it shows both the methods and attributes, can we filter it down easily further? \n",
    "\n",
    "There are a couple different things we can do to being, first we can use the `__dict__` attribute to get the attributes and corresponding values back as a dict with `apollo.__dict__` \n",
    "Alternatively we can use the `vars()` method to get the same result back out with `vars(apollo)` "
   ]
  },
  {
   "cell_type": "code",
   "execution_count": 5,
   "metadata": {},
   "outputs": [
    {
     "data": {
      "text/plain": [
       "{'name': 'Apollo', 'age': 4, 'breed': 'GSD/Husky'}"
      ]
     },
     "execution_count": 5,
     "metadata": {},
     "output_type": "execute_result"
    }
   ],
   "source": [
    "apollo.__dict__"
   ]
  },
  {
   "cell_type": "code",
   "execution_count": 7,
   "metadata": {},
   "outputs": [
    {
     "data": {
      "text/plain": [
       "{'name': 'Apollo', 'age': 4, 'breed': 'GSD/Husky'}"
      ]
     },
     "execution_count": 7,
     "metadata": {},
     "output_type": "execute_result"
    }
   ],
   "source": [
    "vars(apollo)"
   ]
  },
  {
   "cell_type": "markdown",
   "metadata": {},
   "source": [
    "Those two ways get you the dictionaries af the attributes, to get just the actually attributes you can use `.keys()`"
   ]
  },
  {
   "cell_type": "code",
   "execution_count": 8,
   "metadata": {},
   "outputs": [
    {
     "data": {
      "text/plain": [
       "dict_keys(['name', 'age', 'breed'])"
      ]
     },
     "execution_count": 8,
     "metadata": {},
     "output_type": "execute_result"
    }
   ],
   "source": [
    "vars(apollo).keys()"
   ]
  },
  {
   "cell_type": "markdown",
   "metadata": {},
   "source": [
    "These can also be sued internally within a class using self:"
   ]
  },
  {
   "cell_type": "code",
   "execution_count": 9,
   "metadata": {},
   "outputs": [],
   "source": [
    "class Dog:\n",
    "    \"\"\"A simple Dog class\"\"\"\n",
    "    def __init__(self, name, age, breed):\n",
    "        \"\"\"Initialize the name, age, and breed\"\"\" \n",
    "        self.name = name \n",
    "        self.age = age \n",
    "        self.breed = breed\n",
    "    def sit(self):\n",
    "        \"\"\"Simulate a dog sitting\"\"\"\n",
    "        print(f\"{self.name.title()} is now sitting\")\n",
    "    def stay(self):\n",
    "        \"\"\"Simulate the dog staying\"\"\"\n",
    "        print(f\"{self.name.title()} is now staying\")\n",
    "    def get_att_a(self):\n",
    "        return [a for a in dir(self) if not a.startswith('__')]\n",
    "    def get_att_b(self):\n",
    "        return vars(self)\n",
    "    def get_att_c(self):\n",
    "        return vars(self).keys()\n",
    "    def get_att_d(self):\n",
    "        return self.__dict__"
   ]
  },
  {
   "cell_type": "code",
   "execution_count": 10,
   "metadata": {},
   "outputs": [],
   "source": [
    "apollo = Dog('Apollo', 4, 'GSD/Husky')"
   ]
  },
  {
   "cell_type": "code",
   "execution_count": 11,
   "metadata": {},
   "outputs": [
    {
     "data": {
      "text/plain": [
       "['age',\n",
       " 'breed',\n",
       " 'get_att_a',\n",
       " 'get_att_b',\n",
       " 'get_att_c',\n",
       " 'get_att_d',\n",
       " 'name',\n",
       " 'sit',\n",
       " 'stay']"
      ]
     },
     "execution_count": 11,
     "metadata": {},
     "output_type": "execute_result"
    }
   ],
   "source": [
    "apollo.get_att_a()"
   ]
  },
  {
   "cell_type": "code",
   "execution_count": 12,
   "metadata": {},
   "outputs": [
    {
     "data": {
      "text/plain": [
       "{'name': 'Apollo', 'age': 4, 'breed': 'GSD/Husky'}"
      ]
     },
     "execution_count": 12,
     "metadata": {},
     "output_type": "execute_result"
    }
   ],
   "source": [
    "apollo.get_att_b()"
   ]
  },
  {
   "cell_type": "code",
   "execution_count": 13,
   "metadata": {},
   "outputs": [
    {
     "data": {
      "text/plain": [
       "dict_keys(['name', 'age', 'breed'])"
      ]
     },
     "execution_count": 13,
     "metadata": {},
     "output_type": "execute_result"
    }
   ],
   "source": [
    "apollo.get_att_c()"
   ]
  },
  {
   "cell_type": "code",
   "execution_count": 14,
   "metadata": {},
   "outputs": [
    {
     "data": {
      "text/plain": [
       "{'name': 'Apollo', 'age': 4, 'breed': 'GSD/Husky'}"
      ]
     },
     "execution_count": 14,
     "metadata": {},
     "output_type": "execute_result"
    }
   ],
   "source": [
    "apollo.get_att_d()"
   ]
  },
  {
   "cell_type": "markdown",
   "metadata": {},
   "source": [
    "All of these also work for child classes to show the inherited attributes as well. "
   ]
  },
  {
   "cell_type": "code",
   "execution_count": 15,
   "metadata": {},
   "outputs": [
    {
     "name": "stdout",
     "output_type": "stream",
     "text": [
      "{'make': 'nissan', 'model': 'leaf', 'year': 2023, 'odometer': 0, 'battery_size': 40}\n"
     ]
    }
   ],
   "source": [
    "class CarMK3:\n",
    "    \"\"\"A simple car representation\"\"\"\n",
    "    def __init__(self, make, model, year):\n",
    "        \"\"\"Initialize attributes to describe a car\"\"\"\n",
    "        self.make = make \n",
    "        self.model = model \n",
    "        self.year = year \n",
    "        self.odometer = 0\n",
    "    def get_descriptive_name(self):\n",
    "        \"\"\"Return a neatly formatted descriptive name\"\"\"\n",
    "        long_name = f\"{self.year} {self.make} {self.model}\".title()\n",
    "        return long_name\n",
    "    def read_odometer(self):\n",
    "        \"\"\"A function to read the odometer of a car\"\"\"\n",
    "        print(f\"This car has {self.odometer} miles on it\")\n",
    "    def update_odometer(self, mileage):\n",
    "        if mileage >= 0:\n",
    "            self.odometer += mileage\n",
    "\n",
    "class ElectricCarMK2(CarMK3):\n",
    "    \"\"\"Represents aspects of an electric car\"\"\"\n",
    "\n",
    "    def __init__(self,make,model,year):\n",
    "        super().__init__(make, model, year)\n",
    "        self.battery_size = 40\n",
    "    \n",
    "    def describe_battery(self):\n",
    "        \"\"\"Describes the battery associated with this car\"\"\"\n",
    "        print(f\"This car has a {self.battery_size}-KWh battery\")\n",
    "\n",
    "leaf = ElectricCarMK2('nissan','leaf',2023)\n",
    "print(vars(leaf))"
   ]
  },
  {
   "cell_type": "markdown",
   "metadata": {},
   "source": [
    "The final question you may be asking is: \"Can I use the retrieved attributes to set things within a class?"
   ]
  },
  {
   "cell_type": "code",
   "execution_count": 19,
   "metadata": {},
   "outputs": [
    {
     "data": {
      "text/plain": [
       "'Updated Updated Updated'"
      ]
     },
     "execution_count": 19,
     "metadata": {},
     "output_type": "execute_result"
    }
   ],
   "source": [
    "class CarMK3:\n",
    "    \"\"\"A simple car representation\"\"\"\n",
    "    def __init__(self, make, model, year):\n",
    "        \"\"\"Initialize attributes to describe a car\"\"\"\n",
    "        self.make = make \n",
    "        self.model = model \n",
    "        self.year = year \n",
    "        self.odometer = 0\n",
    "    def get_descriptive_name(self):\n",
    "        \"\"\"Return a neatly formatted descriptive name\"\"\"\n",
    "        long_name = f\"{self.year} {self.make} {self.model}\".title()\n",
    "        return long_name\n",
    "    def read_odometer(self):\n",
    "        \"\"\"A function to read the odometer of a car\"\"\"\n",
    "        print(f\"This car has {self.odometer} miles on it\")\n",
    "    def update_odometer(self, mileage):\n",
    "        if mileage >= 0:\n",
    "            self.odometer += mileage\n",
    "    def update_attr(self):\n",
    "        for attr in list(vars(self).keys()):\n",
    "            setattr(self,attr, \"updated\")\n",
    "\n",
    "car = CarMK3('toyota','corolla',2023)\n",
    "\n",
    "car.update_attr()\n",
    "car.get_descriptive_name()"
   ]
  },
  {
   "cell_type": "code",
   "execution_count": null,
   "metadata": {},
   "outputs": [],
   "source": []
  }
 ],
 "metadata": {
  "kernelspec": {
   "display_name": "Python 3",
   "language": "python",
   "name": "python3"
  },
  "language_info": {
   "codemirror_mode": {
    "name": "ipython",
    "version": 3
   },
   "file_extension": ".py",
   "mimetype": "text/x-python",
   "name": "python",
   "nbconvert_exporter": "python",
   "pygments_lexer": "ipython3",
   "version": "3.10.12"
  }
 },
 "nbformat": 4,
 "nbformat_minor": 2
}
