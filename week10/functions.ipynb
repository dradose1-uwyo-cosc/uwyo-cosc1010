{
 "cells": [
  {
   "cell_type": "markdown",
   "metadata": {},
   "source": [
    "# <p style=\"text-align: Center;\">Functions</p>\n",
    "## <p style=\"text-align: Center;\">University of Wyoming COSC 1010</p>\n",
    "### <p style=\"text-align: Center;\">Adapted from: *Python Crash Course 3rd Ed* By Eric Matthes </p>"
   ]
  },
  {
   "cell_type": "code",
   "execution_count": 2,
   "metadata": {},
   "outputs": [
    {
     "name": "stdout",
     "output_type": "stream",
     "text": [
      "Hello there\n"
     ]
    }
   ],
   "source": [
    "def greet_user():\n",
    "    \"\"\"This is a simple greeting function\"\"\"\n",
    "    print(\"Hello there\")\n",
    "\n",
    "greet_user()"
   ]
  },
  {
   "cell_type": "code",
   "execution_count": 4,
   "metadata": {},
   "outputs": [
    {
     "name": "stdout",
     "output_type": "stream",
     "text": [
      "Hello there, class\n"
     ]
    }
   ],
   "source": [
    "def greet_user(username):\n",
    "    \"\"\"This is a simple greeting function\"\"\"\n",
    "    print(f\"Hello there, {username}\")\n",
    "\n",
    "greet_user(\"class\")"
   ]
  },
  {
   "cell_type": "code",
   "execution_count": 1,
   "metadata": {},
   "outputs": [
    {
     "name": "stdout",
     "output_type": "stream",
     "text": [
      "I have a dog\n",
      "My dog's name is Apollo\n"
     ]
    }
   ],
   "source": [
    "def describe_pet(animal_type, pet_name):\n",
    "    \"\"\"Display information about a pet\"\"\"\n",
    "    print(f\"I have a {animal_type}\")\n",
    "    print(f\"My {animal_type}'s name is {pet_name}\")\n",
    "\n",
    "describe_pet(\"dog\",\"Apollo\")"
   ]
  },
  {
   "cell_type": "code",
   "execution_count": 3,
   "metadata": {},
   "outputs": [
    {
     "name": "stdout",
     "output_type": "stream",
     "text": [
      "I have a dog\n",
      "My dog's name is Apollo\n",
      "I have a cat\n",
      "My cat's name is Winston\n",
      "I have a fish\n",
      "My fish's name is Flip\n",
      "I have a hamster\n",
      "My hamster's name is Harry\n"
     ]
    }
   ],
   "source": [
    "def describe_pet(animal_type, pet_name):\n",
    "    \"\"\"Display information about a pet\"\"\"\n",
    "    print(f\"I have a {animal_type}\")\n",
    "    print(f\"My {animal_type}'s name is {pet_name}\")\n",
    "\n",
    "pets = {\"Apollo\":\"dog\",\"Winston\":\"cat\",\"Flip\":\"fish\", \"Harry\":\"hamster\"}\n",
    "\n",
    "for pet in pets:\n",
    "    describe_pet(pets[pet],pet)"
   ]
  },
  {
   "cell_type": "code",
   "execution_count": 4,
   "metadata": {},
   "outputs": [
    {
     "name": "stdout",
     "output_type": "stream",
     "text": [
      "I have a dog\n",
      "My dog's name is Apollo\n",
      "I have a Apollo\n",
      "My Apollo's name is dog\n"
     ]
    }
   ],
   "source": [
    "def describe_pet(animal_type, pet_name):\n",
    "    \"\"\"Display information about a pet\"\"\"\n",
    "    print(f\"I have a {animal_type}\")\n",
    "    print(f\"My {animal_type}'s name is {pet_name}\")\n",
    "\n",
    "describe_pet(\"dog\",\"Apollo\")\n",
    "describe_pet(\"Apollo\",\"dog\")"
   ]
  },
  {
   "cell_type": "code",
   "execution_count": 5,
   "metadata": {},
   "outputs": [
    {
     "name": "stdout",
     "output_type": "stream",
     "text": [
      "I have a dog\n",
      "My dog's name is Apollo\n",
      "I have a dog\n",
      "My dog's name is Apollo\n"
     ]
    }
   ],
   "source": [
    "def describe_pet(animal_type, pet_name):\n",
    "    \"\"\"Display information about a pet\"\"\"\n",
    "    print(f\"I have a {animal_type}\")\n",
    "    print(f\"My {animal_type}'s name is {pet_name}\")\n",
    "\n",
    "describe_pet(\"dog\",\"Apollo\")\n",
    "describe_pet(pet_name=\"Apollo\",animal_type=\"dog\")"
   ]
  },
  {
   "cell_type": "code",
   "execution_count": 1,
   "metadata": {},
   "outputs": [
    {
     "name": "stdout",
     "output_type": "stream",
     "text": [
      "I have a dog\n",
      "My dog's name is Apollo\n",
      "I have a dog\n",
      "My dog's name is Apollo\n",
      "I have a Cat\n",
      "My Cat's name is Winston\n"
     ]
    }
   ],
   "source": [
    "def describe_pet(pet_name, animal_type=\"dog\"):\n",
    "    \"\"\"Display information about a pet\"\"\"\n",
    "    print(f\"I have a {animal_type}\")\n",
    "    print(f\"My {animal_type}'s name is {pet_name}\")\n",
    "\n",
    "describe_pet(\"Apollo\")\n",
    "describe_pet(pet_name=\"Apollo\")\n",
    "describe_pet(\"Winston\",\"Cat\")"
   ]
  },
  {
   "cell_type": "code",
   "execution_count": 8,
   "metadata": {},
   "outputs": [
    {
     "name": "stdout",
     "output_type": "stream",
     "text": [
      "I have a dog\n",
      "My dog's name is Apollo\n",
      "I have a dog\n",
      "My dog's name is Apollo\n",
      "I have a dog\n",
      "My dog's name is Apollo\n",
      "I have a dog\n",
      "My dog's name is Apollo\n"
     ]
    }
   ],
   "source": [
    "def describe_pet(pet_name, animal_type=\"dog\"):\n",
    "    \"\"\"Display information about a pet\"\"\"\n",
    "    print(f\"I have a {animal_type}\")\n",
    "    print(f\"My {animal_type}'s name is {pet_name}\")\n",
    "\n",
    "describe_pet(\"Apollo\")\n",
    "describe_pet(\"Apollo\",\"dog\")\n",
    "describe_pet(pet_name=\"Apollo\")\n",
    "describe_pet(animal_type=\"dog\",pet_name=\"Apollo\")"
   ]
  },
  {
   "cell_type": "code",
   "execution_count": 9,
   "metadata": {},
   "outputs": [
    {
     "ename": "TypeError",
     "evalue": "describe_pet() missing 1 required positional argument: 'animal_type'",
     "output_type": "error",
     "traceback": [
      "\u001b[0;31m---------------------------------------------------------------------------\u001b[0m",
      "\u001b[0;31mTypeError\u001b[0m                                 Traceback (most recent call last)",
      "\u001b[0;32m/tmp/ipykernel_1410/3215276067.py\u001b[0m in \u001b[0;36m<module>\u001b[0;34m\u001b[0m\n\u001b[1;32m      4\u001b[0m     \u001b[0mprint\u001b[0m\u001b[0;34m(\u001b[0m\u001b[0;34mf\"My {animal_type}'s name is {pet_name}\"\u001b[0m\u001b[0;34m)\u001b[0m\u001b[0;34m\u001b[0m\u001b[0;34m\u001b[0m\u001b[0m\n\u001b[1;32m      5\u001b[0m \u001b[0;34m\u001b[0m\u001b[0m\n\u001b[0;32m----> 6\u001b[0;31m \u001b[0mdescribe_pet\u001b[0m\u001b[0;34m(\u001b[0m\u001b[0;34m\"Apollo\"\u001b[0m\u001b[0;34m)\u001b[0m\u001b[0;34m\u001b[0m\u001b[0;34m\u001b[0m\u001b[0m\n\u001b[0m",
      "\u001b[0;31mTypeError\u001b[0m: describe_pet() missing 1 required positional argument: 'animal_type'"
     ]
    }
   ],
   "source": [
    "def describe_pet(pet_name, animal_type):\n",
    "    \"\"\"Display information about a pet\"\"\"\n",
    "    print(f\"I have a {animal_type}\")\n",
    "    print(f\"My {animal_type}'s name is {pet_name}\")\n",
    "\n",
    "describe_pet(\"Apollo\")"
   ]
  },
  {
   "cell_type": "code",
   "execution_count": 11,
   "metadata": {},
   "outputs": [
    {
     "name": "stdout",
     "output_type": "stream",
     "text": [
      "Cowboy Joe\n"
     ]
    }
   ],
   "source": [
    "def get_formatted_name(first_name, last_name):\n",
    "    \"\"\"Return a full name formatted properly\"\"\"\n",
    "    return f\"{first_name} {last_name}\".title()\n",
    "\n",
    "name = get_formatted_name(\"cowboy\", \"joe\")\n",
    "print(name)"
   ]
  },
  {
   "cell_type": "code",
   "execution_count": 13,
   "metadata": {},
   "outputs": [
    {
     "name": "stdout",
     "output_type": "stream",
     "text": [
      "Cowboy No Middle Name Needed Joe\n"
     ]
    }
   ],
   "source": [
    "def get_formatted_name(first_name, middle_name, last_name):\n",
    "    \"\"\"Return a full name formatted properly\"\"\"\n",
    "    return f\"{first_name} {middle_name} {last_name}\".title()\n",
    "\n",
    "name = get_formatted_name(\"cowboy\", \"no middle name needed\",\"joe\")\n",
    "print(name)"
   ]
  },
  {
   "cell_type": "code",
   "execution_count": 16,
   "metadata": {},
   "outputs": [
    {
     "name": "stdout",
     "output_type": "stream",
     "text": [
      "Cowboy Joe\n",
      "John F Kennedy\n"
     ]
    }
   ],
   "source": [
    "def get_formatted_name(first_name, last_name, middle_name=\"\"):\n",
    "    \"\"\"Return a full name formatted properly\"\"\"\n",
    "    if middle_name:\n",
    "        return f\"{first_name} {middle_name} {last_name}\".title()\n",
    "    else:\n",
    "        return f\"{first_name} {last_name}\".title()\n",
    "\n",
    "name = get_formatted_name(\"cowboy\", \"joe\")\n",
    "print(name)\n",
    "\n",
    "name = get_formatted_name(\"John\", \"Kennedy\", \"F\")\n",
    "print(name)"
   ]
  },
  {
   "cell_type": "code",
   "execution_count": 17,
   "metadata": {},
   "outputs": [
    {
     "name": "stdout",
     "output_type": "stream",
     "text": [
      "{'first:': 'pistol', 'last': 'pete'}\n"
     ]
    }
   ],
   "source": [
    "def build_person(first_name, last_name):\n",
    "    \"\"\"Return a dictionary describing a person\"\"\"\n",
    "    person = {'first:':first_name, 'last':last_name}\n",
    "    return person \n",
    "\n",
    "mascot = build_person(\"pistol\",\"pete\")\n",
    "print(mascot)"
   ]
  },
  {
   "cell_type": "code",
   "execution_count": 19,
   "metadata": {},
   "outputs": [
    {
     "name": "stdout",
     "output_type": "stream",
     "text": [
      "{'first:': 'pistol', 'last': 'pete'}\n",
      "{'first:': 'cowboy', 'last': 'joe', 'age': 73}\n"
     ]
    }
   ],
   "source": [
    "def build_person(first_name, last_name, age = None):\n",
    "    \"\"\"Return a dictionary describing a person\"\"\"\n",
    "    person = {'first:':first_name, 'last':last_name}\n",
    "    if age:\n",
    "        person[\"age\"] = age\n",
    "    return person \n",
    "\n",
    "mascot = build_person(\"pistol\",\"pete\")\n",
    "print(mascot)\n",
    "\n",
    "cj = build_person(\"cowboy\",\"joe\",73)\n",
    "print(cj)\n"
   ]
  },
  {
   "cell_type": "code",
   "execution_count": 21,
   "metadata": {},
   "outputs": [
    {
     "name": "stdout",
     "output_type": "stream",
     "text": [
      "Enter q to exit the loop\n"
     ]
    }
   ],
   "source": [
    "def get_formatted_name(first_name, last_name, middle_name=\"\"):\n",
    "    \"\"\"Return a full name formatted properly\"\"\"\n",
    "    if middle_name:\n",
    "        return f\"{first_name} {middle_name} {last_name}\".title()\n",
    "    else:\n",
    "        return f\"{first_name} {last_name}\".title()\n",
    "    \n",
    "while True:\n",
    "    print(\"Enter q to exit the loop\")\n",
    "    f_name = input(\"Please enter a first name: \")\n",
    "    if f_name == 'q':\n",
    "        break \n",
    "    l_name = input(\"Please enter a last name: \" )\n",
    "\n",
    "    if l_name =='q':\n",
    "        break \n",
    "    else:\n",
    "        print(f\"Hello there, {get_formatted_name(f_name,l_name)}\")\n",
    "    "
   ]
  },
  {
   "cell_type": "code",
   "execution_count": 22,
   "metadata": {},
   "outputs": [
    {
     "name": "stdout",
     "output_type": "stream",
     "text": [
      "Hello there, Steamboat\n",
      "Hello there, Cowboy Joe\n",
      "Hello there, Pistol Pete\n"
     ]
    }
   ],
   "source": [
    "def greet_users(names):\n",
    "    \"\"\"Print a simple greeting to users in a list\"\"\"\n",
    "    for name in names:\n",
    "        print(f\"Hello there, {name.title()}\")\n",
    "\n",
    "entities = [\"steamboat\",\"cowboy joe\",\"pistol pete\"]\n",
    "greet_users(entities)"
   ]
  },
  {
   "cell_type": "code",
   "execution_count": 31,
   "metadata": {},
   "outputs": [
    {
     "name": "stdout",
     "output_type": "stream",
     "text": [
      "['apple', 'banana', 'cherry', 'dog', 'elephant', 'football', 'grape', 'happiness', 'internet', 'jazz', 'kiwi', 'lemon', 'mountain', 'notebook', 'ocean', 'penguin', 'quartz', 'rainbow', 'sunset', 'tiger']\n",
      "['carrot', 'dolphin', 'elephant', 'fox', 'guitar', 'hamster', 'igloo', 'jellyfish', 'kangaroo', 'leopard', 'moon', 'narwhal', 'octopus', 'panda', 'quokka', 'raccoon', 'squirrel', 'turtle', 'umbrella', 'violin']\n",
      "purged:\n",
      "['cherry', 'dog', 'internet', 'kiwi', 'lemon', 'notebook', 'penguin', 'sunset', 'tiger']\n",
      "['dolphin', 'fox', 'igloo', 'jellyfish', 'moon', 'octopus', 'squirrel', 'turtle', 'violin']\n"
     ]
    }
   ],
   "source": [
    "list1 = [\n",
    "    \"apple\", \"banana\", \"cherry\", \"dog\", \"elephant\",\n",
    "    \"football\", \"grape\", \"happiness\", \"internet\", \"jazz\",\n",
    "    \"kiwi\", \"lemon\", \"mountain\", \"notebook\", \"ocean\",\n",
    "    \"penguin\", \"quartz\", \"rainbow\", \"sunset\", \"tiger\"\n",
    "]\n",
    "\n",
    "# A second list of 20 random words\n",
    "list2 = [\n",
    "    \"carrot\", \"dolphin\", \"elephant\", \"fox\", \"guitar\",\n",
    "    \"hamster\", \"igloo\", \"jellyfish\", \"kangaroo\", \"leopard\",\n",
    "    \"moon\", \"narwhal\", \"octopus\", \"panda\", \"quokka\",\n",
    "    \"raccoon\", \"squirrel\", \"turtle\", \"umbrella\", \"violin\"\n",
    "]\n",
    "\n",
    "def a_purge(words):\n",
    "    \"\"\"Purges words with 'a' in them\"\"\"\n",
    "    purge_words = []\n",
    "    for word in words:\n",
    "        \n",
    "        if \"a\" in word.lower():\n",
    "            purge_words.append(word)\n",
    "    for word in purge_words:\n",
    "        words.remove(word)\n",
    "\n",
    "print(list1)\n",
    "print(list2)\n",
    "\n",
    "a_purge(list1)\n",
    "a_purge(list2)\n",
    "print(\"purged:\")\n",
    "print(list1)\n",
    "print(list2)"
   ]
  },
  {
   "cell_type": "code",
   "execution_count": 34,
   "metadata": {},
   "outputs": [
    {
     "name": "stdout",
     "output_type": "stream",
     "text": [
      "<class 'tuple'> ('cheese',)\n",
      "<class 'tuple'> ('cheese', 'pepperoni', 'sausage')\n"
     ]
    }
   ],
   "source": [
    "def make_pizza(*toppings):\n",
    "    \"\"\"Print the list of pizza toppings\"\"\"\n",
    "    print(type(toppings),toppings)\n",
    "\n",
    "make_pizza(\"cheese\")\n",
    "make_pizza(\"cheese\",\"pepperoni\",\"sausage\")"
   ]
  },
  {
   "cell_type": "code",
   "execution_count": 36,
   "metadata": {},
   "outputs": [
    {
     "name": "stdout",
     "output_type": "stream",
     "text": [
      "cheese\n",
      "pepperoni\n",
      "sausage\n"
     ]
    }
   ],
   "source": [
    "def make_pizza(*toppings):\n",
    "    \"\"\"Print the list of pizza toppings\"\"\"\n",
    "    for topping in toppings:\n",
    "        print(topping)\n",
    "\n",
    "make_pizza(\"cheese\",\"pepperoni\",\"sausage\")"
   ]
  },
  {
   "cell_type": "code",
   "execution_count": 38,
   "metadata": {},
   "outputs": [
    {
     "name": "stdout",
     "output_type": "stream",
     "text": [
      "You ordered a 16\" pizza with the following toppings:\n",
      "cheese\n",
      "pepperoni\n",
      "sausage\n"
     ]
    }
   ],
   "source": [
    "def make_pizza(size,*toppings):\n",
    "    \"\"\"Print the list of pizza toppings\"\"\"\n",
    "    print(f\"You ordered a {size}\\\" pizza with the following toppings:\")\n",
    "    for topping in toppings:\n",
    "        print(topping)\n",
    "\n",
    "make_pizza(16,\"cheese\",\"pepperoni\",\"sausage\")"
   ]
  },
  {
   "cell_type": "code",
   "execution_count": 39,
   "metadata": {},
   "outputs": [
    {
     "name": "stdout",
     "output_type": "stream",
     "text": [
      "{'favcolor': 'gold', 'favteam': 'wyoming', 'first_name': 'pistol', 'last_name': 'pete'}\n"
     ]
    }
   ],
   "source": [
    "def build_profile(first, last, **user_info):\n",
    "    \"\"\"BUild a dictionary based on information passed\"\"\"\n",
    "    user_info[\"first_name\"] = first \n",
    "    user_info[\"last_name\"]  = last \n",
    "    return user_info\n",
    "user_profile = build_profile(\"pistol\",\"pete\",favcolor=\"gold\",favteam=\"wyoming\")\n",
    "\n",
    "print(user_profile)"
   ]
  }
 ],
 "metadata": {
  "kernelspec": {
   "display_name": "Python 3",
   "language": "python",
   "name": "python3"
  },
  "language_info": {
   "codemirror_mode": {
    "name": "ipython",
    "version": 3
   },
   "file_extension": ".py",
   "mimetype": "text/x-python",
   "name": "python",
   "nbconvert_exporter": "python",
   "pygments_lexer": "ipython3",
   "version": "3.10.12"
  }
 },
 "nbformat": 4,
 "nbformat_minor": 2
}
