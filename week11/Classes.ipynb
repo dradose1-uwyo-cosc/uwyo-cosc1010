{
 "cells": [
  {
   "cell_type": "markdown",
   "metadata": {},
   "source": [
    "# <p style=\"text-align: Center;\">Classes</p>\n",
    "## <p style=\"text-align: Center;\">University of Wyoming COSC 1010</p>\n",
    "### <p style=\"text-align: Center;\">Adapted from: *Python Crash Course 3rd Ed* By Eric Matthes </p>"
   ]
  },
  {
   "cell_type": "code",
   "execution_count": 2,
   "metadata": {},
   "outputs": [],
   "source": [
    "class Dog:\n",
    "    \"\"\"A simple Dog class\"\"\"\n",
    "    def __init__(self, name, age, breed):\n",
    "        \"\"\"Initialize the name, age, and breed\"\"\" \n",
    "        self.name = name \n",
    "        self.age = age \n",
    "        self.breed = breed\n",
    "    def sit(self):\n",
    "        \"\"\"Simulate a dog sitting\"\"\"\n",
    "        print(f\"{self.name.title()} is now sitting\")\n",
    "    def stay(self):\n",
    "        \"\"\"Simulate the dog rolling over\"\"\"\n",
    "        print(f\"{self.name.title()} is now staying\")"
   ]
  },
  {
   "cell_type": "code",
   "execution_count": 3,
   "metadata": {},
   "outputs": [
    {
     "name": "stdout",
     "output_type": "stream",
     "text": [
      "My dog's name is Apollo and is a GSD/Husky that is 3 years old\n"
     ]
    }
   ],
   "source": [
    "my_dog = Dog(\"Apollo\", 3, 'GSD/Husky')\n",
    "\n",
    "print(f\"My dog's name is {my_dog.name} and is a {my_dog.breed} that is {my_dog.age} years old\")"
   ]
  },
  {
   "cell_type": "code",
   "execution_count": 5,
   "metadata": {},
   "outputs": [
    {
     "name": "stdout",
     "output_type": "stream",
     "text": [
      "Apollo\n",
      "GSD/Husky\n"
     ]
    }
   ],
   "source": [
    "print(my_dog.name)\n",
    "print(my_dog.breed)"
   ]
  },
  {
   "cell_type": "code",
   "execution_count": 5,
   "metadata": {},
   "outputs": [
    {
     "name": "stdout",
     "output_type": "stream",
     "text": [
      "Apollo is now sitting\n",
      "Apollo is now staying\n"
     ]
    }
   ],
   "source": [
    "my_dog.sit() \n",
    "my_dog.stay()"
   ]
  },
  {
   "cell_type": "code",
   "execution_count": 6,
   "metadata": {},
   "outputs": [
    {
     "name": "stdout",
     "output_type": "stream",
     "text": [
      "My dog's name is Apollo.\n",
      "My dog is 3 years old.\n",
      "Apollo is now sitting\n",
      "\n",
      "Your dog's name is Lassie.\n",
      "Your dog is Collie years old.\n",
      "Lassie is now sitting\n"
     ]
    }
   ],
   "source": [
    "your_dog = Dog(\"Lassie\",\"Collie\", \"6\")\n",
    "\n",
    "print(f\"My dog's name is {my_dog.name}.\")\n",
    "print(f\"My dog is {my_dog.age} years old.\")\n",
    "my_dog.sit()\n",
    "print(f\"\\nYour dog's name is {your_dog.name}.\")\n",
    "print(f\"Your dog is {your_dog.age} years old.\")\n",
    "your_dog.sit()"
   ]
  },
  {
   "cell_type": "code",
   "execution_count": 8,
   "metadata": {},
   "outputs": [
    {
     "name": "stdout",
     "output_type": "stream",
     "text": [
      "2023 audi R8\n"
     ]
    }
   ],
   "source": [
    "class Car:\n",
    "    \"\"\"A simple car representation\"\"\"\n",
    "    def __init__(self, make, model, year):\n",
    "        \"\"\"Initialize attributes to describe a car\"\"\"\n",
    "        self.make = make \n",
    "        self.model = model \n",
    "        self.year = year \n",
    "    def get_descriptive_name(self):\n",
    "        \"\"\"Return a neatly formatted descriptive name\"\"\"\n",
    "        long_name = f\"{self.year} {self.make} {self.model}\"\n",
    "        return long_name\n",
    "        \n",
    "new_car = Car ('audi', 'R8', '2023')\n",
    "print(new_car.get_descriptive_name())"
   ]
  },
  {
   "cell_type": "code",
   "execution_count": 2,
   "metadata": {},
   "outputs": [
    {
     "name": "stdout",
     "output_type": "stream",
     "text": [
      "2023 Audi R8\n",
      "This car has 0 miles on it\n"
     ]
    }
   ],
   "source": [
    "class CarMK2:\n",
    "    \"\"\"A simple car representation\"\"\"\n",
    "    def __init__(self, make, model, year):\n",
    "        \"\"\"Initialize attributes to describe a car\"\"\"\n",
    "        self.make = make \n",
    "        self.model = model \n",
    "        self.year = year \n",
    "        self.odometer = 0\n",
    "    def get_descriptive_name(self):\n",
    "        \"\"\"Return a neatly formatted descriptive name\"\"\"\n",
    "        long_name = f\"{self.year} {self.make} {self.model}\".title()\n",
    "        return long_name\n",
    "    def read_odometer(self):\n",
    "        \"\"\"A function to read the odometer of a car\"\"\"\n",
    "        print(f\"This car has {self.odometer} miles on it\")\n",
    "        \n",
    "new_car_two = CarMK2 ('audi', 'R8', '2023')\n",
    "print(new_car_two.get_descriptive_name())\n",
    "new_car_two.read_odometer()\n"
   ]
  },
  {
   "cell_type": "code",
   "execution_count": 3,
   "metadata": {},
   "outputs": [
    {
     "name": "stdout",
     "output_type": "stream",
     "text": [
      "This car has 0 miles on it\n",
      "This car has 13 miles on it\n"
     ]
    }
   ],
   "source": [
    "new_car_two.read_odometer()\n",
    "new_car_two.odometer = 13 \n",
    "new_car_two.read_odometer()"
   ]
  },
  {
   "cell_type": "code",
   "execution_count": 8,
   "metadata": {},
   "outputs": [],
   "source": [
    "class CarMK3:\n",
    "    \"\"\"A simple car representation\"\"\"\n",
    "    def __init__(self, make, model, year):\n",
    "        \"\"\"Initialize attributes to describe a car\"\"\"\n",
    "        self.make = make \n",
    "        self.model = model \n",
    "        self.year = year \n",
    "        self.odometer = 0\n",
    "    def get_descriptive_name(self):\n",
    "        \"\"\"Return a neatly formatted descriptive name\"\"\"\n",
    "        long_name = f\"{self.year} {self.make} {self.model}\".title()\n",
    "        return long_name\n",
    "    def read_odometer(self):\n",
    "        \"\"\"A function to read the odometer of a car\"\"\"\n",
    "        print(f\"This car has {self.odometer} miles on it\")\n",
    "    def update_odometer(self, mileage):\n",
    "        if mileage >= 0:\n",
    "            self.odometer += mileage"
   ]
  },
  {
   "cell_type": "code",
   "execution_count": 7,
   "metadata": {},
   "outputs": [
    {
     "name": "stdout",
     "output_type": "stream",
     "text": [
      "2023 Audi R8\n",
      "This car has 0 miles on it\n",
      "This car has 13 miles on it\n"
     ]
    }
   ],
   "source": [
    "new_car_thr = CarMK3 ('audi', 'R8', '2023')\n",
    "print(new_car_thr.get_descriptive_name())\n",
    "new_car_thr.read_odometer()\n",
    "new_car_thr.update_odometer(13)\n",
    "new_car_thr.read_odometer()"
   ]
  },
  {
   "cell_type": "code",
   "execution_count": 11,
   "metadata": {},
   "outputs": [
    {
     "name": "stdout",
     "output_type": "stream",
     "text": [
      "2023 Nissan Leaf\n"
     ]
    }
   ],
   "source": [
    "class ElectricCar(CarMK3):\n",
    "    \"\"\"Represents aspects of an electric car\"\"\"\n",
    "\n",
    "    def __init__(self,make,model,year):\n",
    "        super().__init__(make,model,year)\n",
    "\n",
    "leaf = ElectricCar('nissan','leaf',2023)\n",
    "print(leaf.get_descriptive_name())"
   ]
  },
  {
   "cell_type": "code",
   "execution_count": 12,
   "metadata": {},
   "outputs": [
    {
     "name": "stdout",
     "output_type": "stream",
     "text": [
      "This car has a 40-KWh battery\n",
      "None\n"
     ]
    }
   ],
   "source": [
    "class ElectricCarMK2(CarMK3):\n",
    "    \"\"\"Represents aspects of an electric car\"\"\"\n",
    "\n",
    "    def __init__(self,make,model,year):\n",
    "        super().__init__(make, model, year)\n",
    "        self.battery_size = 40\n",
    "    \n",
    "    def describe_battery(self):\n",
    "        \"\"\"Describes the battery associated with this car\"\"\"\n",
    "        print(f\"This car has a {self.battery_size}-KWh battery\")\n",
    "\n",
    "leaf = ElectricCarMK2('nissan','leaf',2023)\n",
    "print(leaf.describe_battery())"
   ]
  },
  {
   "cell_type": "code",
   "execution_count": 5,
   "metadata": {},
   "outputs": [
    {
     "ename": "TypeError",
     "evalue": "sayHi() takes 0 positional arguments but 1 was given",
     "output_type": "error",
     "traceback": [
      "\u001b[0;31m---------------------------------------------------------------------------\u001b[0m",
      "\u001b[0;31mTypeError\u001b[0m                                 Traceback (most recent call last)",
      "Cell \u001b[0;32mIn[5], line 16\u001b[0m\n\u001b[1;32m     10\u001b[0m         \u001b[38;5;28;01mpass\u001b[39;00m\n\u001b[1;32m     14\u001b[0m person \u001b[38;5;241m=\u001b[39m Child()\n\u001b[0;32m---> 16\u001b[0m \u001b[43mperson\u001b[49m\u001b[38;5;241;43m.\u001b[39;49m\u001b[43msayHi\u001b[49m\u001b[43m(\u001b[49m\u001b[43m)\u001b[49m\n\u001b[1;32m     17\u001b[0m person\u001b[38;5;241m.\u001b[39mvote()\n",
      "\u001b[0;31mTypeError\u001b[0m: sayHi() takes 0 positional arguments but 1 was given"
     ]
    }
   ],
   "source": [
    "class Adult:\n",
    "    def __init__(self):\n",
    "        pass \n",
    "    def vote(self):\n",
    "        print(\"the adult voted\")\n",
    "    def sayHi(self):\n",
    "        print(\"Hi\")\n",
    "class Child(Adult):\n",
    "    def __init__(self):\n",
    "        super().__init__()\n",
    "\n",
    "\n",
    "\n",
    "person = Child()\n",
    "\n",
    "person.sayHi()\n",
    "person.vote()"
   ]
  },
  {
   "cell_type": "code",
   "execution_count": 21,
   "metadata": {},
   "outputs": [
    {
     "name": "stdout",
     "output_type": "stream",
     "text": [
      "This car has a 40-KWh battery\n"
     ]
    }
   ],
   "source": [
    "class Battery:\n",
    "    def __init__(self,battery_size = 40):\n",
    "        self.battery_size = battery_size\n",
    "\n",
    "    def describe_battery(self):\n",
    "        \"\"\"Describes the battery associated with this car\"\"\"\n",
    "        print(f\"This car has a {self.battery_size}-KWh battery\")\n",
    "\n",
    "class ElectricCarMK3(CarMK3):\n",
    "    \"\"\"Represents aspects of an electric car\"\"\"\n",
    "\n",
    "    def __init__(self,make,model,year):\n",
    "        super().__init__(make, model, year)\n",
    "        self.battery = Battery() \n",
    "    \n",
    "leaf = ElectricCarMK3('nissan','leaf',2023)\n",
    "leaf.battery.describe_battery()"
   ]
  },
  {
   "cell_type": "code",
   "execution_count": 26,
   "metadata": {},
   "outputs": [
    {
     "name": "stdout",
     "output_type": "stream",
     "text": [
      "4\n",
      "Fir\n"
     ]
    }
   ],
   "source": [
    "from random import randint \n",
    "from random import choice \n",
    "print(randint(1,5))\n",
    "tree_species = [\n",
    "    \"Oak\",\n",
    "    \"Maple\",\n",
    "    \"Pine\",\n",
    "    \"Birch\",\n",
    "    \"Willow\",\n",
    "    \"Cedar\",\n",
    "    \"Fir\",\n",
    "    \"Redwood\",\n",
    "    \"Ash\",\n",
    "    \"Elm\"\n",
    "]\n",
    "\n",
    "print(choice(tree_species))"
   ]
  }
 ],
 "metadata": {
  "kernelspec": {
   "display_name": "Python 3",
   "language": "python",
   "name": "python3"
  },
  "language_info": {
   "codemirror_mode": {
    "name": "ipython",
    "version": 3
   },
   "file_extension": ".py",
   "mimetype": "text/x-python",
   "name": "python",
   "nbconvert_exporter": "python",
   "pygments_lexer": "ipython3",
   "version": "3.8.10"
  }
 },
 "nbformat": 4,
 "nbformat_minor": 2
}
